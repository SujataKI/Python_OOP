{
 "cells": [
  {
   "cell_type": "markdown",
   "id": "1f8ec68a",
   "metadata": {},
   "source": [
    "# Python OOP (Object oriented Programming)\n",
    "\n",
    "- OOP stands for Object Oriented Programming\n",
    "- Python is an object oriented programming allowing you to structure your code using classes and objects for better organization and reusability.\n",
    "- class \n",
    "- object\n",
    "- constructor"
   ]
  },
  {
   "cell_type": "markdown",
   "id": "7d4e2270",
   "metadata": {},
   "source": [
    "## Advantages of OOP\n",
    "- Provides a clear structure to programs\n",
    "- Makes code easier to maintain, reuse and debug.\n",
    "- Helps keep your code DRY (Don't Repeat Yourself.)\n",
    "- Allows you to build reusable applications with less code."
   ]
  },
  {
   "cell_type": "markdown",
   "id": "e32119e8",
   "metadata": {},
   "source": [
    "# Class and Objects\n",
    "\n",
    "- Class : Class can be anything which provides functionality and which takes some input parameters or attribute.\n",
    "- Animal: Dog, Cat, Cow\n",
    "- Animal: Number of legs, Body Size, Speak\n",
    "- Dog: German Shephard, Lebrador, Rottweiler\n",
    "\n",
    "--------------\n",
    "| ANIMAL     |\n",
    "--------------\n",
    "| Num_Legs   |\n",
    "| Body_Size  |\n",
    "--------------\n",
    "| Speak      |\n",
    "--------------"
   ]
  },
  {
   "cell_type": "code",
   "execution_count": 4,
   "id": "7408a35f",
   "metadata": {},
   "outputs": [],
   "source": [
    "# Simple Class\n",
    "class Human:\n",
    "    x = 1"
   ]
  },
  {
   "cell_type": "code",
   "execution_count": 5,
   "id": "3bdf0571",
   "metadata": {},
   "outputs": [],
   "source": [
    "sujata = Human()"
   ]
  },
  {
   "cell_type": "code",
   "execution_count": 6,
   "id": "6e0640e5",
   "metadata": {},
   "outputs": [
    {
     "data": {
      "text/plain": [
       "__main__.Human"
      ]
     },
     "execution_count": 6,
     "metadata": {},
     "output_type": "execute_result"
    }
   ],
   "source": [
    "type(sujata)"
   ]
  },
  {
   "cell_type": "code",
   "execution_count": 7,
   "id": "7ef31a5e",
   "metadata": {},
   "outputs": [
    {
     "data": {
      "text/plain": [
       "1"
      ]
     },
     "execution_count": 7,
     "metadata": {},
     "output_type": "execute_result"
    }
   ],
   "source": [
    "sujata.x"
   ]
  },
  {
   "cell_type": "code",
   "execution_count": 8,
   "id": "227e0a34",
   "metadata": {},
   "outputs": [
    {
     "data": {
      "text/plain": [
       "['__abs__',\n",
       " '__add__',\n",
       " '__and__',\n",
       " '__bool__',\n",
       " '__ceil__',\n",
       " '__class__',\n",
       " '__delattr__',\n",
       " '__dir__',\n",
       " '__divmod__',\n",
       " '__doc__',\n",
       " '__eq__',\n",
       " '__float__',\n",
       " '__floor__',\n",
       " '__floordiv__',\n",
       " '__format__',\n",
       " '__ge__',\n",
       " '__getattribute__',\n",
       " '__getnewargs__',\n",
       " '__getstate__',\n",
       " '__gt__',\n",
       " '__hash__',\n",
       " '__index__',\n",
       " '__init__',\n",
       " '__init_subclass__',\n",
       " '__int__',\n",
       " '__invert__',\n",
       " '__le__',\n",
       " '__lshift__',\n",
       " '__lt__',\n",
       " '__mod__',\n",
       " '__mul__',\n",
       " '__ne__',\n",
       " '__neg__',\n",
       " '__new__',\n",
       " '__or__',\n",
       " '__pos__',\n",
       " '__pow__',\n",
       " '__radd__',\n",
       " '__rand__',\n",
       " '__rdivmod__',\n",
       " '__reduce__',\n",
       " '__reduce_ex__',\n",
       " '__repr__',\n",
       " '__rfloordiv__',\n",
       " '__rlshift__',\n",
       " '__rmod__',\n",
       " '__rmul__',\n",
       " '__ror__',\n",
       " '__round__',\n",
       " '__rpow__',\n",
       " '__rrshift__',\n",
       " '__rshift__',\n",
       " '__rsub__',\n",
       " '__rtruediv__',\n",
       " '__rxor__',\n",
       " '__setattr__',\n",
       " '__sizeof__',\n",
       " '__str__',\n",
       " '__sub__',\n",
       " '__subclasshook__',\n",
       " '__truediv__',\n",
       " '__trunc__',\n",
       " '__xor__',\n",
       " 'as_integer_ratio',\n",
       " 'bit_count',\n",
       " 'bit_length',\n",
       " 'conjugate',\n",
       " 'denominator',\n",
       " 'from_bytes',\n",
       " 'imag',\n",
       " 'is_integer',\n",
       " 'numerator',\n",
       " 'real',\n",
       " 'to_bytes']"
      ]
     },
     "execution_count": 8,
     "metadata": {},
     "output_type": "execute_result"
    }
   ],
   "source": [
    "dir(int)"
   ]
  },
  {
   "cell_type": "code",
   "execution_count": null,
   "id": "2c99c400",
   "metadata": {},
   "outputs": [],
   "source": [
    "class Human():\n",
    "    # Constructor? , self?, \n",
    "    def __init__(self,name, age, gender, height, weight): # __init__() : Magic method / Special method, Dunder method\n",
    "        self.name = name\n",
    "        self.age = age\n",
    "        self.gender = gender\n",
    "        self.height = height\n",
    "        self.weight = weight"
   ]
  },
  {
   "cell_type": "code",
   "execution_count": 10,
   "id": "958058be",
   "metadata": {},
   "outputs": [
    {
     "ename": "TypeError",
     "evalue": "Human.__init__() missing 5 required positional arguments: 'name', 'age', 'gender', 'height', and 'weight'",
     "output_type": "error",
     "traceback": [
      "\u001b[31m---------------------------------------------------------------------------\u001b[39m",
      "\u001b[31mTypeError\u001b[39m                                 Traceback (most recent call last)",
      "\u001b[36mCell\u001b[39m\u001b[36m \u001b[39m\u001b[32mIn[10]\u001b[39m\u001b[32m, line 1\u001b[39m\n\u001b[32m----> \u001b[39m\u001b[32m1\u001b[39m person1 = \u001b[43mHuman\u001b[49m\u001b[43m(\u001b[49m\u001b[43m)\u001b[49m\n",
      "\u001b[31mTypeError\u001b[39m: Human.__init__() missing 5 required positional arguments: 'name', 'age', 'gender', 'height', and 'weight'"
     ]
    }
   ],
   "source": [
    "person1 = Human()"
   ]
  },
  {
   "cell_type": "code",
   "execution_count": 12,
   "id": "fcdba21b",
   "metadata": {},
   "outputs": [],
   "source": [
    "person_1 = Human(\"Sujata Kumari\", 28, \"Female\", \"5,6 Inch\", 50)"
   ]
  },
  {
   "cell_type": "code",
   "execution_count": 13,
   "id": "360cc0d0",
   "metadata": {},
   "outputs": [
    {
     "data": {
      "text/plain": [
       "'Sujata Kumari'"
      ]
     },
     "execution_count": 13,
     "metadata": {},
     "output_type": "execute_result"
    }
   ],
   "source": [
    "person_1.name"
   ]
  },
  {
   "cell_type": "code",
   "execution_count": 15,
   "id": "b03a3c6d",
   "metadata": {},
   "outputs": [
    {
     "data": {
      "text/plain": [
       "'5,6 Inch'"
      ]
     },
     "execution_count": 15,
     "metadata": {},
     "output_type": "execute_result"
    }
   ],
   "source": [
    "person_1.height"
   ]
  },
  {
   "cell_type": "markdown",
   "id": "c179c2a0",
   "metadata": {},
   "source": [
    "# self:\n",
    "- self is nothing but the object itself.\n",
    "- Constructor initializes the attributes and functionalities"
   ]
  },
  {
   "cell_type": "code",
   "execution_count": null,
   "id": "d00da67c",
   "metadata": {},
   "outputs": [],
   "source": [
    "class Human():\n",
    "    # Constructor? , self?, \n",
    "    def __init__(self,name, age, gender, height, weight): # __init__() : Magic method / Special method, Dunder method\n",
    "        self.name = name\n",
    "        self.age = age\n",
    "        self.gender = gender\n",
    "        self.height = height\n",
    "        self.weight = weight\n",
    "        self.introduction()\n",
    "\n",
    "    def introduction(self):\n",
    "        print(f\"Hello my name is {self.name}. I am {self.age} years old. My height is {self.height}. I am a {self.gender}. I am {self.weight} Kgs.\")\n",
    "\n",
    "\n",
    "    "
   ]
  },
  {
   "cell_type": "code",
   "execution_count": 20,
   "id": "c1f28667",
   "metadata": {},
   "outputs": [
    {
     "name": "stdout",
     "output_type": "stream",
     "text": [
      "Hello my name is Sujata Kumari. I am 26 years old. My height is 5.6 inch. I am a Female. I am 50 Kgs.\n"
     ]
    }
   ],
   "source": [
    "person_2 = Human(\"Sujata Kumari\", 26, \"Female\", \"5.6 inch\", 50)"
   ]
  },
  {
   "cell_type": "code",
   "execution_count": 21,
   "id": "e9b57a94",
   "metadata": {},
   "outputs": [],
   "source": [
    "class Human():\n",
    "    # Constructor? , self?, \n",
    "    def __init__(self,name, age, gender, height, weight): # __init__() : Magic method / Special method, Dunder method\n",
    "        self.name = name\n",
    "        self.age = age\n",
    "        self.gender = gender\n",
    "        self.height = height\n",
    "        self.weight = weight\n",
    "        self.introduction()\n",
    "\n",
    "    def introduction(self):\n",
    "        print(f\"Hello my name is {self.name}. I am {self.age} years old. My height is {self.height}. I am a {self.gender}. I am {self.weight} Kgs.\")\n",
    "\n",
    "    def running(self, track):\n",
    "        print(f\"I can run on plane tracks upto {track} kms.\")"
   ]
  },
  {
   "cell_type": "code",
   "execution_count": 22,
   "id": "8ff47ab0",
   "metadata": {},
   "outputs": [
    {
     "name": "stdout",
     "output_type": "stream",
     "text": [
      "Hello my name is Sujata Kumari. I am 26 years old. My height is 5.6 inch. I am a Female. I am 50 Kgs.\n"
     ]
    }
   ],
   "source": [
    "person_2 = Human(\"Sujata Kumari\", 26, \"Female\", \"5.6 inch\", 50)"
   ]
  },
  {
   "cell_type": "code",
   "execution_count": 23,
   "id": "c6fefc63",
   "metadata": {},
   "outputs": [
    {
     "name": "stdout",
     "output_type": "stream",
     "text": [
      "I can run on plane tracks upto 40 kms.\n"
     ]
    }
   ],
   "source": [
    "person_2.running(track=40)"
   ]
  },
  {
   "cell_type": "code",
   "execution_count": 24,
   "id": "6514ef76",
   "metadata": {},
   "outputs": [
    {
     "name": "stdout",
     "output_type": "stream",
     "text": [
      "I can run on plane tracks upto 40 kms.\n"
     ]
    }
   ],
   "source": [
    "person_2.running(40)"
   ]
  },
  {
   "cell_type": "code",
   "execution_count": 25,
   "id": "f9cad445",
   "metadata": {},
   "outputs": [
    {
     "data": {
      "text/plain": [
       "['__abs__',\n",
       " '__add__',\n",
       " '__and__',\n",
       " '__bool__',\n",
       " '__ceil__',\n",
       " '__class__',\n",
       " '__delattr__',\n",
       " '__dir__',\n",
       " '__divmod__',\n",
       " '__doc__',\n",
       " '__eq__',\n",
       " '__float__',\n",
       " '__floor__',\n",
       " '__floordiv__',\n",
       " '__format__',\n",
       " '__ge__',\n",
       " '__getattribute__',\n",
       " '__getnewargs__',\n",
       " '__getstate__',\n",
       " '__gt__',\n",
       " '__hash__',\n",
       " '__index__',\n",
       " '__init__',\n",
       " '__init_subclass__',\n",
       " '__int__',\n",
       " '__invert__',\n",
       " '__le__',\n",
       " '__lshift__',\n",
       " '__lt__',\n",
       " '__mod__',\n",
       " '__mul__',\n",
       " '__ne__',\n",
       " '__neg__',\n",
       " '__new__',\n",
       " '__or__',\n",
       " '__pos__',\n",
       " '__pow__',\n",
       " '__radd__',\n",
       " '__rand__',\n",
       " '__rdivmod__',\n",
       " '__reduce__',\n",
       " '__reduce_ex__',\n",
       " '__repr__',\n",
       " '__rfloordiv__',\n",
       " '__rlshift__',\n",
       " '__rmod__',\n",
       " '__rmul__',\n",
       " '__ror__',\n",
       " '__round__',\n",
       " '__rpow__',\n",
       " '__rrshift__',\n",
       " '__rshift__',\n",
       " '__rsub__',\n",
       " '__rtruediv__',\n",
       " '__rxor__',\n",
       " '__setattr__',\n",
       " '__sizeof__',\n",
       " '__str__',\n",
       " '__sub__',\n",
       " '__subclasshook__',\n",
       " '__truediv__',\n",
       " '__trunc__',\n",
       " '__xor__',\n",
       " 'as_integer_ratio',\n",
       " 'bit_count',\n",
       " 'bit_length',\n",
       " 'conjugate',\n",
       " 'denominator',\n",
       " 'from_bytes',\n",
       " 'imag',\n",
       " 'is_integer',\n",
       " 'numerator',\n",
       " 'real',\n",
       " 'to_bytes']"
      ]
     },
     "execution_count": 25,
     "metadata": {},
     "output_type": "execute_result"
    }
   ],
   "source": [
    "dir(int)"
   ]
  },
  {
   "cell_type": "markdown",
   "id": "0a00cd32",
   "metadata": {},
   "source": [
    "# The __str__() function\n",
    "- It controls what should be returned when the class object is represented as a string.\n",
    "- If the `__str__()` function is not set, the string representation of the object is returned."
   ]
  },
  {
   "cell_type": "code",
   "execution_count": 57,
   "id": "905d661f",
   "metadata": {},
   "outputs": [],
   "source": [
    "class Human():\n",
    "    count_person = 0\n",
    "    # Constructor? , self?, \n",
    "    def __init__(self,name, age, gender, height, weight): # __init__() : Magic method / Special method, Dunder method\n",
    "        self.name = name\n",
    "        self.age = age\n",
    "        self.gender = gender\n",
    "        self.height = height\n",
    "        self.weight = weight\n",
    "        self.count_person = Human.count_person\n",
    "        self.introduction()\n",
    "\n",
    "    def introduction(self):\n",
    "        print(f\"Hello my name is {self.name}. I am {self.age} years old. My height is {self.height}. I am a {self.gender}. I am {self.weight} Kgs.\")\n",
    "\n",
    "    def running(self, track):\n",
    "        print(f\"I can run on plane tracks upto {track} kms.\")\n",
    "\n",
    "    def __str__(self):\n",
    "        return f\"-------{self.name}(---{self.gender}----{self.age}--{self.weight}----)\"\n",
    "\n",
    "    def count_persons(self):\n",
    "        return self.count_person+1\n"
   ]
  },
  {
   "cell_type": "code",
   "execution_count": 58,
   "id": "5a3caed9",
   "metadata": {},
   "outputs": [
    {
     "name": "stdout",
     "output_type": "stream",
     "text": [
      "Hello my name is Sujata Kumari. I am 26 years old. My height is 5.6 inch. I am a Female. I am 50 Kgs.\n"
     ]
    }
   ],
   "source": [
    "person_2 = Human(\"Sujata Kumari\", 26, \"Female\", \"5.6 inch\", 50)"
   ]
  },
  {
   "cell_type": "code",
   "execution_count": 59,
   "id": "628dd361",
   "metadata": {},
   "outputs": [
    {
     "data": {
      "text/plain": [
       "1"
      ]
     },
     "execution_count": 59,
     "metadata": {},
     "output_type": "execute_result"
    }
   ],
   "source": [
    "person_2.count_persons()"
   ]
  },
  {
   "cell_type": "code",
   "execution_count": 61,
   "id": "a353123e",
   "metadata": {},
   "outputs": [
    {
     "name": "stdout",
     "output_type": "stream",
     "text": [
      "Hello my name is Sujata Kumari 2. I am 26 years old. My height is 5.6 inch. I am a Female. I am 50 Kgs.\n"
     ]
    }
   ],
   "source": [
    "person_3 =  Human(\"Sujata Kumari 2\", 26, \"Female\", \"5.6 inch\", 50)"
   ]
  },
  {
   "cell_type": "code",
   "execution_count": 62,
   "id": "bd26eedc",
   "metadata": {},
   "outputs": [
    {
     "data": {
      "text/plain": [
       "1"
      ]
     },
     "execution_count": 62,
     "metadata": {},
     "output_type": "execute_result"
    }
   ],
   "source": [
    "person_3.count_persons()"
   ]
  },
  {
   "cell_type": "code",
   "execution_count": 38,
   "id": "7bb69e20",
   "metadata": {},
   "outputs": [
    {
     "data": {
      "text/plain": [
       "'-------Sujata Kumari(---Female----26--50----)'"
      ]
     },
     "execution_count": 38,
     "metadata": {},
     "output_type": "execute_result"
    }
   ],
   "source": [
    "person_2.__str__()"
   ]
  },
  {
   "cell_type": "markdown",
   "id": "ccc0c66e",
   "metadata": {},
   "source": [
    "# You can modify the properties on objects like this:"
   ]
  },
  {
   "cell_type": "code",
   "execution_count": 40,
   "id": "57ca1bb4",
   "metadata": {},
   "outputs": [],
   "source": [
    "person_2.name = \"Ankita Kumari\""
   ]
  },
  {
   "cell_type": "code",
   "execution_count": 41,
   "id": "26fcf2cc",
   "metadata": {},
   "outputs": [
    {
     "data": {
      "text/plain": [
       "'Ankita Kumari'"
      ]
     },
     "execution_count": 41,
     "metadata": {},
     "output_type": "execute_result"
    }
   ],
   "source": [
    "person_2.name"
   ]
  },
  {
   "cell_type": "code",
   "execution_count": 42,
   "id": "adcf2c03",
   "metadata": {},
   "outputs": [
    {
     "data": {
      "text/plain": [
       "60"
      ]
     },
     "execution_count": 42,
     "metadata": {},
     "output_type": "execute_result"
    }
   ],
   "source": [
    "person_2.age = 60\n",
    "person_2.age"
   ]
  },
  {
   "cell_type": "markdown",
   "id": "eccdafac",
   "metadata": {},
   "source": [
    "# Delete Object Properties and Objects"
   ]
  },
  {
   "cell_type": "code",
   "execution_count": 43,
   "id": "3b783b14",
   "metadata": {},
   "outputs": [],
   "source": [
    "del person_2.age"
   ]
  },
  {
   "cell_type": "code",
   "execution_count": 44,
   "id": "12a8f3ac",
   "metadata": {},
   "outputs": [
    {
     "ename": "AttributeError",
     "evalue": "'Human' object has no attribute 'age'",
     "output_type": "error",
     "traceback": [
      "\u001b[31m---------------------------------------------------------------------------\u001b[39m",
      "\u001b[31mAttributeError\u001b[39m                            Traceback (most recent call last)",
      "\u001b[36mCell\u001b[39m\u001b[36m \u001b[39m\u001b[32mIn[44]\u001b[39m\u001b[32m, line 1\u001b[39m\n\u001b[32m----> \u001b[39m\u001b[32m1\u001b[39m \u001b[43mperson_2\u001b[49m\u001b[43m.\u001b[49m\u001b[43mage\u001b[49m\n",
      "\u001b[31mAttributeError\u001b[39m: 'Human' object has no attribute 'age'"
     ]
    }
   ],
   "source": [
    "person_2.age"
   ]
  },
  {
   "cell_type": "code",
   "execution_count": 45,
   "id": "9621e3db",
   "metadata": {},
   "outputs": [],
   "source": [
    "del person_2"
   ]
  },
  {
   "cell_type": "code",
   "execution_count": 46,
   "id": "16f739bf",
   "metadata": {},
   "outputs": [
    {
     "ename": "NameError",
     "evalue": "name 'person_2' is not defined",
     "output_type": "error",
     "traceback": [
      "\u001b[31m---------------------------------------------------------------------------\u001b[39m",
      "\u001b[31mNameError\u001b[39m                                 Traceback (most recent call last)",
      "\u001b[36mCell\u001b[39m\u001b[36m \u001b[39m\u001b[32mIn[46]\u001b[39m\u001b[32m, line 1\u001b[39m\n\u001b[32m----> \u001b[39m\u001b[32m1\u001b[39m \u001b[43mperson_2\u001b[49m\n",
      "\u001b[31mNameError\u001b[39m: name 'person_2' is not defined"
     ]
    }
   ],
   "source": [
    "person_2"
   ]
  },
  {
   "cell_type": "code",
   "execution_count": 47,
   "id": "ca1bfe8e",
   "metadata": {},
   "outputs": [
    {
     "name": "stdout",
     "output_type": "stream",
     "text": [
      "Hello my name is Sujata Kumari. I am 26 years old. My height is 5.6 inch. I am a Female. I am 50 Kgs.\n"
     ]
    }
   ],
   "source": [
    "person_2 = Human(\"Sujata Kumari\", 26, \"Female\", \"5.6 inch\", 50)"
   ]
  },
  {
   "cell_type": "code",
   "execution_count": 48,
   "id": "887fabc7",
   "metadata": {},
   "outputs": [
    {
     "data": {
      "text/plain": [
       "['__class__',\n",
       " '__delattr__',\n",
       " '__dict__',\n",
       " '__dir__',\n",
       " '__doc__',\n",
       " '__eq__',\n",
       " '__format__',\n",
       " '__ge__',\n",
       " '__getattribute__',\n",
       " '__getstate__',\n",
       " '__gt__',\n",
       " '__hash__',\n",
       " '__init__',\n",
       " '__init_subclass__',\n",
       " '__le__',\n",
       " '__lt__',\n",
       " '__module__',\n",
       " '__ne__',\n",
       " '__new__',\n",
       " '__reduce__',\n",
       " '__reduce_ex__',\n",
       " '__repr__',\n",
       " '__setattr__',\n",
       " '__sizeof__',\n",
       " '__str__',\n",
       " '__subclasshook__',\n",
       " '__weakref__',\n",
       " 'age',\n",
       " 'gender',\n",
       " 'height',\n",
       " 'introduction',\n",
       " 'name',\n",
       " 'running',\n",
       " 'weight']"
      ]
     },
     "execution_count": 48,
     "metadata": {},
     "output_type": "execute_result"
    }
   ],
   "source": [
    "dir(person_2)"
   ]
  },
  {
   "cell_type": "code",
   "execution_count": null,
   "id": "fedb2f91",
   "metadata": {},
   "outputs": [],
   "source": []
  }
 ],
 "metadata": {
  "kernelspec": {
   "display_name": "oop_env",
   "language": "python",
   "name": "python3"
  },
  "language_info": {
   "codemirror_mode": {
    "name": "ipython",
    "version": 3
   },
   "file_extension": ".py",
   "mimetype": "text/x-python",
   "name": "python",
   "nbconvert_exporter": "python",
   "pygments_lexer": "ipython3",
   "version": "3.12.7"
  }
 },
 "nbformat": 4,
 "nbformat_minor": 5
}
