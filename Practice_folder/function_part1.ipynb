{
 "cells": [
  {
   "cell_type": "markdown",
   "id": "75e673cf",
   "metadata": {},
   "source": [
    "# Functions in Python\n",
    "- A function is a block of code which only runs when its called.\n",
    "- You can pass data known as parameters, into a function.\n",
    "- A function can return data as a default."
   ]
  },
  {
   "cell_type": "markdown",
   "id": "45019513",
   "metadata": {},
   "source": [
    "# creating a function\n",
    "- In Python a funcion is defined using def keyword."
   ]
  },
  {
   "cell_type": "code",
   "execution_count": 1,
   "id": "7dc435f6",
   "metadata": {},
   "outputs": [],
   "source": [
    "book = \"Python\"\n",
    "def my_function():\n",
    "    print(\"Python language\")"
   ]
  },
  {
   "cell_type": "markdown",
   "id": "70c95fda",
   "metadata": {},
   "source": [
    "# Calling a function"
   ]
  },
  {
   "cell_type": "code",
   "execution_count": 2,
   "id": "48feae5c",
   "metadata": {},
   "outputs": [
    {
     "data": {
      "text/plain": [
       "'Python'"
      ]
     },
     "execution_count": 2,
     "metadata": {},
     "output_type": "execute_result"
    }
   ],
   "source": [
    "book   #variable calling"
   ]
  },
  {
   "cell_type": "code",
   "execution_count": 3,
   "id": "8a166f72",
   "metadata": {},
   "outputs": [
    {
     "data": {
      "text/plain": [
       "<function __main__.my_function()>"
      ]
     },
     "execution_count": 3,
     "metadata": {},
     "output_type": "execute_result"
    }
   ],
   "source": [
    "my_function"
   ]
  },
  {
   "cell_type": "code",
   "execution_count": 4,
   "id": "74e72fe4",
   "metadata": {},
   "outputs": [
    {
     "name": "stdout",
     "output_type": "stream",
     "text": [
      "Python language\n"
     ]
    }
   ],
   "source": [
    "my_function()"
   ]
  },
  {
   "cell_type": "code",
   "execution_count": 6,
   "id": "b8479534",
   "metadata": {},
   "outputs": [
    {
     "name": "stdout",
     "output_type": "stream",
     "text": [
      "Python is a programming language. \n",
      "Its easy to learn. \n",
      "Its used for software development.\n"
     ]
    }
   ],
   "source": [
    "def python():\n",
    "    \"\"\"Python is a programming language.\n",
    "    Its easy to learn.\n",
    "    Its used for software development.\n",
    "    \"\"\"\n",
    "    print(\"Python is a programming language. \\nIts easy to learn. \\nIts used for software development.\")\n",
    "python()"
   ]
  },
  {
   "cell_type": "markdown",
   "id": "71b5b5fd",
   "metadata": {},
   "source": [
    "# Arguments\n",
    "- Information can be passed into funtions as arguments.\n",
    "- args."
   ]
  },
  {
   "cell_type": "code",
   "execution_count": 7,
   "id": "a3bb37ae",
   "metadata": {},
   "outputs": [],
   "source": [
    "def books(\n",
    "        book1: str,\n",
    "        book2: str,\n",
    "        book3: str,\n",
    "        book4: str,\n",
    "    ):\n",
    "    print(f\"1st book{book1}. 2nd book{book2}. 3rd book{book3}. 4th book{book4}.\")"
   ]
  },
  {
   "cell_type": "markdown",
   "id": "dd84801c",
   "metadata": {},
   "source": [
    "# Key - value pair\n",
    "# key- Parameter (function defination)\n",
    "# value - arguments(functions calling)"
   ]
  },
  {
   "cell_type": "code",
   "execution_count": 9,
   "id": "8291248c",
   "metadata": {},
   "outputs": [
    {
     "name": "stdout",
     "output_type": "stream",
     "text": [
      "1st bookjava. 2nd bookpython. 3rd bookAI. 4th bookelectronics.\n"
     ]
    }
   ],
   "source": [
    "books(\"java\", \"python\", \"AI\", \"electronics\")"
   ]
  },
  {
   "cell_type": "code",
   "execution_count": 10,
   "id": "2adeab47",
   "metadata": {},
   "outputs": [
    {
     "name": "stdout",
     "output_type": "stream",
     "text": [
      "1st bookjava. 2nd bookpython. 3rd bookAI. 4th bookelectronics.\n"
     ]
    }
   ],
   "source": [
    "book1 = \"java\"\n",
    "book2 = \"python\"\n",
    "book3 = \"AI\"\n",
    "book4 = \"electronics\"\n",
    "books(book1, book2, book3, book4)"
   ]
  },
  {
   "cell_type": "markdown",
   "id": "ff3775a3",
   "metadata": {},
   "source": [
    "# Parameter or arguments?\n",
    "- The terms parameter and argument can be used for the same thing: information that are passed into a function.\n",
    "- A parameter is the variable listed inside the parantheses in the function defination.\n",
    "- An argument is the value that is send to the function when it is called."
   ]
  },
  {
   "cell_type": "markdown",
   "id": "96b4c6bf",
   "metadata": {},
   "source": [
    "# Number of arguments\n",
    "- By default , a function must be called with the correct number of arguments.\n",
    "- Meaning that if your function expects 2 arguments, you have to call the function with 2 arguments, not more ,not less."
   ]
  },
  {
   "cell_type": "code",
   "execution_count": 11,
   "id": "75aa0256",
   "metadata": {},
   "outputs": [
    {
     "data": {
      "text/plain": [
       "<function __main__.books(book1: str, book2: str, book3: str, book4: str)>"
      ]
     },
     "execution_count": 11,
     "metadata": {},
     "output_type": "execute_result"
    }
   ],
   "source": [
    "books"
   ]
  },
  {
   "cell_type": "code",
   "execution_count": 12,
   "id": "98e1bdd5",
   "metadata": {},
   "outputs": [
    {
     "name": "stdout",
     "output_type": "stream",
     "text": [
      "1st bookjava. 2nd bookpython. 3rd bookAI. 4th bookelectronics.\n"
     ]
    }
   ],
   "source": [
    "books(\"java\", \"python\", \"AI\", \"electronics\")"
   ]
  },
  {
   "cell_type": "markdown",
   "id": "bc8a2b1e",
   "metadata": {},
   "source": [
    "# Arbitrary arguments\n",
    "- If you do not know how many arguments that will be passed into your function, add a *before the parameter name in the function defination.\n",
    "- This way the function will receive a tuple of arguments, and can access the items accordingly."
   ]
  },
  {
   "cell_type": "code",
   "execution_count": 20,
   "id": "3c235bce",
   "metadata": {},
   "outputs": [],
   "source": [
    "def my_function(*food_items):\n",
    "    print(\"Healthy food is \" + food_items[3])"
   ]
  },
  {
   "cell_type": "code",
   "execution_count": 21,
   "id": "a6232ca8",
   "metadata": {},
   "outputs": [
    {
     "name": "stdout",
     "output_type": "stream",
     "text": [
      "Healthy food is oats\n"
     ]
    }
   ],
   "source": [
    "my_function(\"Daliya\", \"Poha\", \"Soyachunks\", \"oats\")"
   ]
  },
  {
   "cell_type": "code",
   "execution_count": 23,
   "id": "23ef2d2b",
   "metadata": {},
   "outputs": [
    {
     "ename": "IndexError",
     "evalue": "tuple index out of range",
     "output_type": "error",
     "traceback": [
      "\u001b[31m---------------------------------------------------------------------------\u001b[39m",
      "\u001b[31mIndexError\u001b[39m                                Traceback (most recent call last)",
      "\u001b[36mCell\u001b[39m\u001b[36m \u001b[39m\u001b[32mIn[23]\u001b[39m\u001b[32m, line 1\u001b[39m\n\u001b[32m----> \u001b[39m\u001b[32m1\u001b[39m \u001b[43mmy_function\u001b[49m\u001b[43m(\u001b[49m\u001b[43m)\u001b[49m\n",
      "\u001b[36mCell\u001b[39m\u001b[36m \u001b[39m\u001b[32mIn[20]\u001b[39m\u001b[32m, line 2\u001b[39m, in \u001b[36mmy_function\u001b[39m\u001b[34m(*food_items)\u001b[39m\n\u001b[32m      1\u001b[39m \u001b[38;5;28;01mdef\u001b[39;00m\u001b[38;5;250m \u001b[39m\u001b[34mmy_function\u001b[39m(*food_items):\n\u001b[32m----> \u001b[39m\u001b[32m2\u001b[39m     \u001b[38;5;28mprint\u001b[39m(\u001b[33m\"\u001b[39m\u001b[33mHealthy food is \u001b[39m\u001b[33m\"\u001b[39m + \u001b[43mfood_items\u001b[49m\u001b[43m[\u001b[49m\u001b[32;43m3\u001b[39;49m\u001b[43m]\u001b[49m)\n",
      "\u001b[31mIndexError\u001b[39m: tuple index out of range"
     ]
    }
   ],
   "source": [
    "my_function()"
   ]
  },
  {
   "cell_type": "code",
   "execution_count": 37,
   "id": "beab9d7a",
   "metadata": {},
   "outputs": [
    {
     "data": {
      "text/plain": [
       "0"
      ]
     },
     "execution_count": 37,
     "metadata": {},
     "output_type": "execute_result"
    }
   ],
   "source": [
    "def add_numbers(*args):\n",
    "    sum=0\n",
    "    for num in args:\n",
    "        sum = sum +num\n",
    "    return sum\n",
    "add_numbers()"
   ]
  },
  {
   "cell_type": "code",
   "execution_count": 39,
   "id": "7cce8b56",
   "metadata": {},
   "outputs": [
    {
     "data": {
      "text/plain": [
       "376"
      ]
     },
     "execution_count": 39,
     "metadata": {},
     "output_type": "execute_result"
    }
   ],
   "source": [
    "add_numbers(3,5,8,-45,67,67,-8,56,34,100,89)"
   ]
  },
  {
   "cell_type": "markdown",
   "id": "43b112a6",
   "metadata": {},
   "source": [
    "# Keyword Arguments\n",
    "- You can also send arguments with the key= value syntax.\n",
    "- The way the order of the arguments does not matters."
   ]
  },
  {
   "cell_type": "code",
   "execution_count": 40,
   "id": "a54e1679",
   "metadata": {},
   "outputs": [
    {
     "name": "stdout",
     "output_type": "stream",
     "text": [
      "healthy food item isPoha\n"
     ]
    }
   ],
   "source": [
    "def my_function(food_item1, food_item2, food_item3, food_item4):\n",
    "    print(\"healthy food item is\" + food_item2)\n",
    "my_function(food_item1=\"Daliya\", food_item2=\"Poha\", food_item3=\"soyachunks\", food_item4=\"oats\")"
   ]
  },
  {
   "cell_type": "code",
   "execution_count": 43,
   "id": "479e205f",
   "metadata": {},
   "outputs": [
    {
     "name": "stdout",
     "output_type": "stream",
     "text": [
      "healthy food item isPoha\n"
     ]
    }
   ],
   "source": [
    "my_function(\"Daliya\", \"Poha\", \"soyachunks\", \"oats\")"
   ]
  },
  {
   "cell_type": "code",
   "execution_count": 44,
   "id": "dc54542b",
   "metadata": {},
   "outputs": [
    {
     "name": "stdout",
     "output_type": "stream",
     "text": [
      "1st bookjava. 2nd bookpython. 3rd bookAI. 4th bookelectronics.\n"
     ]
    }
   ],
   "source": [
    "books(\"java\", \"python\", \"AI\", \"electronics\")"
   ]
  },
  {
   "cell_type": "code",
   "execution_count": 45,
   "id": "b036ea8b",
   "metadata": {},
   "outputs": [
    {
     "name": "stdout",
     "output_type": "stream",
     "text": [
      "1st book23. 2nd bookpython. 3rd bookAI. 4th bookelectronics.\n"
     ]
    }
   ],
   "source": [
    "books(23, \"python\", \"AI\", \"electronics\")"
   ]
  },
  {
   "cell_type": "code",
   "execution_count": 46,
   "id": "c21abde3",
   "metadata": {},
   "outputs": [
    {
     "name": "stdout",
     "output_type": "stream",
     "text": [
      "1st bookjava. 2nd bookpython. 3rd bookAI. 4th bookelectronics.\n"
     ]
    }
   ],
   "source": [
    "books(book1=\"java\", book2=\"python\", book3=\"AI\", book4=\"electronics\")"
   ]
  },
  {
   "cell_type": "markdown",
   "id": "f31d696a",
   "metadata": {},
   "source": [
    "# Arbitrary Keyword arguments\n",
    "- If you do not know how many keyword arguments that will be passed into your function, add two astericks `**` before the parameter name in the function definition.\n",
    "- This way the function will receive a dictionary of arguments, and can access the items accordingly."
   ]
  },
  {
   "cell_type": "code",
   "execution_count": 47,
   "id": "c0d409bd",
   "metadata": {},
   "outputs": [
    {
     "name": "stdout",
     "output_type": "stream",
     "text": [
      "first name isriya\n"
     ]
    }
   ],
   "source": [
    "def my_function(**person):\n",
    "    print(\"first name is\" + person[\"fname\"])\n",
    "my_function(fname= \"riya\", lname= \"kumari\")"
   ]
  },
  {
   "cell_type": "code",
   "execution_count": 48,
   "id": "e56a92f5",
   "metadata": {},
   "outputs": [
    {
     "name": "stdout",
     "output_type": "stream",
     "text": [
      "first name isriya\n"
     ]
    }
   ],
   "source": [
    "my_function(fname= \"riya\", lname= \"kumari\", age= 23, Gender=\"female\")"
   ]
  },
  {
   "cell_type": "code",
   "execution_count": 49,
   "id": "8541022f",
   "metadata": {},
   "outputs": [
    {
     "name": "stdout",
     "output_type": "stream",
     "text": [
      "k1 v1\n",
      "k2 v2\n",
      "k1\n",
      "k2\n",
      "v1\n",
      "v2\n"
     ]
    }
   ],
   "source": [
    "dict_1 = {\n",
    "    \"k1\":\"v1\",\n",
    "    \"k2\":\"v2\"\n",
    "}\n",
    "dict_1\n",
    "for key,value in dict_1.items():\n",
    "    print(key, value)\n",
    "for key in dict_1.keys():\n",
    "    print(key)\n",
    "for value in dict_1.values():\n",
    "    print(value)"
   ]
  },
  {
   "cell_type": "code",
   "execution_count": 50,
   "id": "e92e7d6d",
   "metadata": {},
   "outputs": [
    {
     "data": {
      "text/plain": [
       "145"
      ]
     },
     "execution_count": 50,
     "metadata": {},
     "output_type": "execute_result"
    }
   ],
   "source": [
    "def add_numbers(**kwargs):\n",
    "    sum=0\n",
    "    for num in kwargs.values():\n",
    "      sum = sum +num\n",
    "    return sum\n",
    "add_numbers(num_1= 56, num_2= 45, num_3= 78, num_4= -34)\n",
    "\n"
   ]
  },
  {
   "cell_type": "markdown",
   "id": "0c0c24ab",
   "metadata": {},
   "source": []
  }
 ],
 "metadata": {
  "kernelspec": {
   "display_name": "oop_env",
   "language": "python",
   "name": "python3"
  },
  "language_info": {
   "codemirror_mode": {
    "name": "ipython",
    "version": 3
   },
   "file_extension": ".py",
   "mimetype": "text/x-python",
   "name": "python",
   "nbconvert_exporter": "python",
   "pygments_lexer": "ipython3",
   "version": "3.12.7"
  }
 },
 "nbformat": 4,
 "nbformat_minor": 5
}
