{
 "cells": [
  {
   "cell_type": "markdown",
   "id": "c3145b6d",
   "metadata": {},
   "source": [
    "# Functions in Python\n",
    "- A function is a reusable block of code which performs operations specified in the function. They let you break down tasks and allow you to reuse your code in different programs.\n",
    "\n",
    "There are two types of functions :\n",
    "\n",
    "*   <b>Pre-defined functions</b>\n",
    "*   <b>User defined functions</b>\n"
   ]
  },
  {
   "cell_type": "markdown",
   "id": "effd05ca",
   "metadata": {},
   "source": [
    "# What is Function?\n",
    "- You can define functions to provide the required functionality. Here are simple rules to define a function in Python:\n",
    "\n",
    "*   Functions blocks begin <code>def</code> followed by the function <code>name</code> and parentheses <code>()</code>.\n",
    "*   There are input parameters or arguments that should be placed within these parentheses.\n",
    "*   You can also define parameters inside these parentheses.\n",
    "*   There is a body within every function that starts with a colon (<code>:</code>) and is indented.\n",
    "*   You can also place documentation before the body.\n",
    "*   The statement <code>return</code> exits a function, optionally passing back a value.\n",
    "\n",
    "An example of a function that adds on to the parameter <code>a</code> prints and returns the output as <code>b</code>:\n"
   ]
  },
  {
   "cell_type": "code",
   "execution_count": 21,
   "id": "7c4c0516",
   "metadata": {},
   "outputs": [],
   "source": [
    "# First function example: Add 2 to x and store as y\n",
    "\n",
    "def add(x):\n",
    "    \"\"\"\n",
    "    add 2 to x\n",
    "    accepts x parameter x.\n",
    "    x should be of type int.\n",
    "    \"\"\"\n",
    "    y = x + 2\n",
    "    print(x, \"if you add two\", y)\n",
    "    return(y)"
   ]
  },
  {
   "cell_type": "code",
   "execution_count": 19,
   "id": "e7379d60",
   "metadata": {},
   "outputs": [
    {
     "name": "stdout",
     "output_type": "stream",
     "text": [
      "6 if you add two 8\n"
     ]
    },
    {
     "data": {
      "text/plain": [
       "8"
      ]
     },
     "execution_count": 19,
     "metadata": {},
     "output_type": "execute_result"
    }
   ],
   "source": [
    "add(6)"
   ]
  },
  {
   "cell_type": "markdown",
   "id": "2d8d5620",
   "metadata": {},
   "source": [
    "- We can obtain help about a function :"
   ]
  },
  {
   "cell_type": "code",
   "execution_count": 22,
   "id": "3ca9ba15",
   "metadata": {},
   "outputs": [
    {
     "name": "stdout",
     "output_type": "stream",
     "text": [
      "Help on function add in module __main__:\n",
      "\n",
      "add(x)\n",
      "    add 2 to x\n",
      "    accepts x parameter x.\n",
      "    x should be of type int.\n",
      "\n"
     ]
    }
   ],
   "source": [
    "help(add)"
   ]
  },
  {
   "cell_type": "markdown",
   "id": "b228988d",
   "metadata": {},
   "source": [
    "# We can call the function:"
   ]
  },
  {
   "cell_type": "code",
   "execution_count": 23,
   "id": "bbd38806",
   "metadata": {},
   "outputs": [
    {
     "name": "stdout",
     "output_type": "stream",
     "text": [
      "3 if you add two 5\n"
     ]
    },
    {
     "data": {
      "text/plain": [
       "5"
      ]
     },
     "execution_count": 23,
     "metadata": {},
     "output_type": "execute_result"
    }
   ],
   "source": [
    "add(3)"
   ]
  },
  {
   "cell_type": "markdown",
   "id": "6f9422bb",
   "metadata": {},
   "source": [
    "- If we call the function with a new input we get a new result:"
   ]
  },
  {
   "cell_type": "code",
   "execution_count": 24,
   "id": "e7614605",
   "metadata": {},
   "outputs": [
    {
     "name": "stdout",
     "output_type": "stream",
     "text": [
      "4 if you add two 6\n"
     ]
    },
    {
     "data": {
      "text/plain": [
       "6"
      ]
     },
     "execution_count": 24,
     "metadata": {},
     "output_type": "execute_result"
    }
   ],
   "source": [
    "add(4)"
   ]
  },
  {
   "cell_type": "markdown",
   "id": "8c1815e8",
   "metadata": {},
   "source": [
    "- We can create different functions. For example, we can create a function that multiplies two numbers. The numbers will be represented by the variables <code>a</code> and <code>b</code>:"
   ]
  },
  {
   "cell_type": "code",
   "execution_count": 25,
   "id": "5d3e910e",
   "metadata": {},
   "outputs": [
    {
     "name": "stdout",
     "output_type": "stream",
     "text": [
      "50\n"
     ]
    }
   ],
   "source": [
    "# Define a function for multiple two numbers\n",
    "\n",
    "def Mult(x, y):\n",
    "    c = x * y\n",
    "    return(c)\n",
    "    print('This is not printed')\n",
    "    \n",
    "result = Mult(10,5)\n",
    "print(result)"
   ]
  },
  {
   "cell_type": "markdown",
   "id": "6c88d0b4",
   "metadata": {},
   "source": [
    "- The same function can be used for different data types. For example, we can multiply two integers:\n"
   ]
  },
  {
   "cell_type": "code",
   "execution_count": 26,
   "id": "bffd472b",
   "metadata": {},
   "outputs": [
    {
     "data": {
      "text/plain": [
       "138"
      ]
     },
     "execution_count": 26,
     "metadata": {},
     "output_type": "execute_result"
    }
   ],
   "source": [
    "# use mult() multiply two integers\n",
    "Mult(23,6)"
   ]
  },
  {
   "cell_type": "markdown",
   "id": "da53fc7c",
   "metadata": {},
   "source": [
    "- Note: How the function terminates at the return statement, while passing back value. This value can be further assigned to a different variable as desired.\n",
    "- The same function can be used for different data types. For example, we can multiply two integers:"
   ]
  },
  {
   "cell_type": "code",
   "execution_count": 27,
   "id": "d3f325e6",
   "metadata": {},
   "outputs": [
    {
     "data": {
      "text/plain": [
       "31.5"
      ]
     },
     "execution_count": 27,
     "metadata": {},
     "output_type": "execute_result"
    }
   ],
   "source": [
    "# Use mult() multiply two floats\n",
    "\n",
    "Mult(15.0, 2.10)"
   ]
  },
  {
   "cell_type": "markdown",
   "id": "ac9d41c5",
   "metadata": {},
   "source": [
    "- We can even replicate a string by multiplying with an integer:"
   ]
  },
  {
   "cell_type": "code",
   "execution_count": 28,
   "id": "86019659",
   "metadata": {},
   "outputs": [
    {
     "data": {
      "text/plain": [
       "'The land The land '"
      ]
     },
     "execution_count": 28,
     "metadata": {},
     "output_type": "execute_result"
    }
   ],
   "source": [
    "# Use mult() multiply two different type values together\n",
    "\n",
    "Mult(2, \"The land \")"
   ]
  },
  {
   "cell_type": "markdown",
   "id": "8f4c1a71",
   "metadata": {},
   "source": [
    "# Variables\n",
    "The input to a function is called a formal parameter.\n",
    "\n",
    "A variable that is declared inside a function is called a  local variable. The parameter only exists within the function (i.e. the point where the function starts and stops).\n",
    "\n",
    "A variable that is declared outside a function definition is a global variable, and its value is accessible and modifiable throughout the program. We will discuss more about global variables at the end of the lab."
   ]
  },
  {
   "cell_type": "code",
   "execution_count": 32,
   "id": "613168af",
   "metadata": {},
   "outputs": [],
   "source": [
    "# Function Definition\n",
    "# Global variable\n",
    "s = 4\n",
    "\n",
    "def rect(x):\n",
    "    \n",
    "    # Local variable y\n",
    "    y = 1\n",
    "    z = x * x + y\n",
    "    print(x, \"if you rect + 1\", z) \n",
    "    return(z)"
   ]
  },
  {
   "cell_type": "markdown",
   "id": "8fa6534b",
   "metadata": {},
   "source": [
    "We can call the function  with an input of <b>3</b>:\n"
   ]
  },
  {
   "cell_type": "code",
   "execution_count": 34,
   "id": "ea3e9dc0",
   "metadata": {},
   "outputs": [
    {
     "name": "stdout",
     "output_type": "stream",
     "text": [
      "5 if you rect + 1 26\n"
     ]
    },
    {
     "data": {
      "text/plain": [
       "26"
      ]
     },
     "execution_count": 34,
     "metadata": {},
     "output_type": "execute_result"
    }
   ],
   "source": [
    "# Initializes Global variable  \n",
    "\n",
    "x = 5\n",
    "# Makes function call and return function a y\n",
    "y = rect(x)\n",
    "y"
   ]
  },
  {
   "cell_type": "markdown",
   "id": "7ce42074",
   "metadata": {},
   "source": [
    "We can call the function  with an input of <b>2</b> in a different manner:\n"
   ]
  },
  {
   "cell_type": "code",
   "execution_count": 36,
   "id": "a1d58e3a",
   "metadata": {},
   "outputs": [
    {
     "name": "stdout",
     "output_type": "stream",
     "text": [
      "6 if you rect + 1 37\n"
     ]
    },
    {
     "data": {
      "text/plain": [
       "37"
      ]
     },
     "execution_count": 36,
     "metadata": {},
     "output_type": "execute_result"
    }
   ],
   "source": [
    "rect(6)"
   ]
  },
  {
   "cell_type": "markdown",
   "id": "791e0850",
   "metadata": {},
   "source": [
    "If there is no <code>return</code> statement, the function returns <code>None</code>. The following two functions are equivalent:\n"
   ]
  },
  {
   "cell_type": "code",
   "execution_count": 39,
   "id": "edf6ba8c",
   "metadata": {},
   "outputs": [],
   "source": [
    "# Define functions, one with return value None and other without return value\n",
    "\n",
    "def Mack():\n",
    "    print('The Land')\n",
    "    \n",
    "def Mack1():\n",
    "    print('The Land')\n",
    "    return(None)"
   ]
  },
  {
   "cell_type": "code",
   "execution_count": 40,
   "id": "fb4ecfb1",
   "metadata": {},
   "outputs": [
    {
     "name": "stdout",
     "output_type": "stream",
     "text": [
      "The Land\n"
     ]
    }
   ],
   "source": [
    "Mack()"
   ]
  },
  {
   "cell_type": "code",
   "execution_count": 41,
   "id": "cbfa41f1",
   "metadata": {},
   "outputs": [
    {
     "name": "stdout",
     "output_type": "stream",
     "text": [
      "The Land\n"
     ]
    }
   ],
   "source": [
    "Mack1()"
   ]
  },
  {
   "cell_type": "markdown",
   "id": "fc0f7abb",
   "metadata": {},
   "source": [
    "Printing the function after a call reveals a **None** is the default return statement:\n"
   ]
  },
  {
   "cell_type": "code",
   "execution_count": 42,
   "id": "f1906001",
   "metadata": {},
   "outputs": [
    {
     "name": "stdout",
     "output_type": "stream",
     "text": [
      "The Land\n",
      "None\n",
      "The Land\n",
      "None\n"
     ]
    }
   ],
   "source": [
    "# See what functions returns are\n",
    "\n",
    "print(Mack())\n",
    "print(Mack1())\n"
   ]
  },
  {
   "cell_type": "markdown",
   "id": "c4d2b40b",
   "metadata": {},
   "source": [
    "Create a function <code>con</code> that  concatenates two strings using the addition operation:\n"
   ]
  },
  {
   "cell_type": "code",
   "execution_count": 43,
   "id": "4b832d6b",
   "metadata": {},
   "outputs": [],
   "source": [
    " # Define the function for combining strings\n",
    "\n",
    "def con(x, y):\n",
    "    return(x + y)"
   ]
  },
  {
   "cell_type": "code",
   "execution_count": 44,
   "id": "a6a3eb76",
   "metadata": {},
   "outputs": [
    {
     "data": {
      "text/plain": [
       "'babli Kumari'"
      ]
     },
     "execution_count": 44,
     "metadata": {},
     "output_type": "execute_result"
    }
   ],
   "source": [
    "# Test on the con() function\n",
    "\n",
    "con(\"babli \", \"Kumari\")"
   ]
  },
  {
   "cell_type": "markdown",
   "id": "5a3cccd0",
   "metadata": {},
   "source": [
    "<h3 id=\"simple\">Functions Make Things Simple</h3>\n",
    "Consider the two lines of code in <b>Block 1</b> and <b>Block 2</b>: the procedure for each block is identical. The only thing that is different is the variable names and values.\n"
   ]
  },
  {
   "cell_type": "markdown",
   "id": "8081df6e",
   "metadata": {},
   "source": [
    "# Block 1:"
   ]
  },
  {
   "cell_type": "code",
   "execution_count": 46,
   "id": "b2c60a6a",
   "metadata": {},
   "outputs": [
    {
     "data": {
      "text/plain": [
       "3"
      ]
     },
     "execution_count": 46,
     "metadata": {},
     "output_type": "execute_result"
    }
   ],
   "source": [
    "# a and b calculation block1\n",
    "\n",
    "a1 = 6\n",
    "b1 = 8\n",
    "c1 = a1 + b1 + 2 * a1 * b1 - 1\n",
    "if(c1 < 0):\n",
    "    c1 = 0 \n",
    "else:\n",
    "    c1 = 3\n",
    "c1   "
   ]
  },
  {
   "cell_type": "markdown",
   "id": "b523ddd5",
   "metadata": {},
   "source": [
    "# Block 2:"
   ]
  },
  {
   "cell_type": "code",
   "execution_count": 50,
   "id": "5749e3ea",
   "metadata": {},
   "outputs": [
    {
     "data": {
      "text/plain": [
       "3"
      ]
     },
     "execution_count": 50,
     "metadata": {},
     "output_type": "execute_result"
    }
   ],
   "source": [
    "# a and b calculation block2\n",
    "\n",
    "a2 = 4\n",
    "b2 = 7\n",
    "c2 = a2 + b2 + 1 * a2 * b2 - 0\n",
    "if(c2 < 0):\n",
    "    c2 = 0 \n",
    "else:\n",
    "    c2 = 3\n",
    "c2   "
   ]
  },
  {
   "cell_type": "markdown",
   "id": "b6534c7d",
   "metadata": {},
   "source": [
    "We can replace the lines of code with a function. A function combines many instructions into a single line of code. Once a function is defined, it can be used repeatedly. You can invoke the same function many times in your program. You can save your function and use it in another program or use someone else’s function. The lines of code in code <b>Block 1</b> and code <b>Block 2</b> can be replaced by the following function:\n"
   ]
  },
  {
   "cell_type": "code",
   "execution_count": null,
   "id": "81c6817a",
   "metadata": {},
   "outputs": [],
   "source": [
    "# Make a Function for the calculation above\n",
    "\n",
    "def Equation(a,b):\n",
    "    c = a + b + 2 * a * b - 1\n",
    "    if(c < 0):\n",
    "        c = 0 \n",
    "    else:\n",
    "        c = 6\n",
    "    return(c) "
   ]
  },
  {
   "cell_type": "markdown",
   "id": "c7ec0018",
   "metadata": {},
   "source": [
    "Code **Blocks 1** and **Block 2** can now be replaced with code **Block 3** and code **Block 4**.\n"
   ]
  },
  {
   "cell_type": "markdown",
   "id": "4cfda123",
   "metadata": {},
   "source": [
    "Block 3:"
   ]
  },
  {
   "cell_type": "code",
   "execution_count": 52,
   "id": "4286ea24",
   "metadata": {},
   "outputs": [
    {
     "data": {
      "text/plain": [
       "5"
      ]
     },
     "execution_count": 52,
     "metadata": {},
     "output_type": "execute_result"
    }
   ],
   "source": [
    "a1 = 7\n",
    "b1 = 9\n",
    "c1 = Equation(a1, b1)\n",
    "c1"
   ]
  },
  {
   "cell_type": "markdown",
   "id": "179a3abf",
   "metadata": {},
   "source": [
    "Block 4:"
   ]
  },
  {
   "cell_type": "code",
   "execution_count": 54,
   "id": "d6c07d0e",
   "metadata": {},
   "outputs": [
    {
     "data": {
      "text/plain": [
       "5"
      ]
     },
     "execution_count": 54,
     "metadata": {},
     "output_type": "execute_result"
    }
   ],
   "source": [
    "a2 = 2\n",
    "b2 = 0\n",
    "c2 = Equation(a2, b2)\n",
    "c2"
   ]
  },
  {
   "cell_type": "markdown",
   "id": "cbf0bda2",
   "metadata": {},
   "source": [
    "# Pre-defined functions\n",
    "There are many pre-defined functions in Python, so let's start with the simple ones.\n"
   ]
  },
  {
   "cell_type": "markdown",
   "id": "4d120899",
   "metadata": {},
   "source": [
    "The print() function:"
   ]
  },
  {
   "cell_type": "code",
   "execution_count": 55,
   "id": "e8d2aafc",
   "metadata": {},
   "outputs": [
    {
     "name": "stdout",
     "output_type": "stream",
     "text": [
      "[10.0, 7.5, 6.0, 9.0, 7.0, 10.5, 5.0, 9.5]\n"
     ]
    }
   ],
   "source": [
    "# Build-in function print()\n",
    "\n",
    "album_ratings = [10.0, 7.5, 6.0, 9.0, 7.0, 10.5, 5.0, 9.5] \n",
    "print(album_ratings)"
   ]
  },
  {
   "cell_type": "markdown",
   "id": "ca8f3e6c",
   "metadata": {},
   "source": [
    "The <code>sum()</code> function adds all the  elements in a list or tuple:\n"
   ]
  },
  {
   "cell_type": "code",
   "execution_count": 56,
   "id": "2ae0e64a",
   "metadata": {},
   "outputs": [
    {
     "name": "stdout",
     "output_type": "stream",
     "text": [
      "8.0625\n"
     ]
    }
   ],
   "source": [
    "# Use sum() to add every element in a list or tuple together\n",
    "\n",
    "sum(album_ratings)\n",
    "avearge_rating = sum(album_ratings)/len(album_ratings)\n",
    "print(avearge_rating)"
   ]
  },
  {
   "cell_type": "markdown",
   "id": "29abe23d",
   "metadata": {},
   "source": [
    "The <code>len()</code> function returns the length of a list or tuple:\n"
   ]
  },
  {
   "cell_type": "code",
   "execution_count": 57,
   "id": "38501a0b",
   "metadata": {},
   "outputs": [
    {
     "data": {
      "text/plain": [
       "8"
      ]
     },
     "execution_count": 57,
     "metadata": {},
     "output_type": "execute_result"
    }
   ],
   "source": [
    "# Show the length of the list or tuple\n",
    "\n",
    "len(album_ratings)"
   ]
  },
  {
   "cell_type": "markdown",
   "id": "d3aa9f62",
   "metadata": {},
   "source": [
    "# In-Built functions\n",
    "In Python, an in-built function is a pre-defined function that is always available for use, providing common functionality without requiring any imports. "
   ]
  },
  {
   "cell_type": "code",
   "execution_count": 60,
   "id": "d519eee3",
   "metadata": {},
   "outputs": [
    {
     "ename": "TypeError",
     "evalue": "'int' object is not iterable",
     "output_type": "error",
     "traceback": [
      "\u001b[31m---------------------------------------------------------------------------\u001b[39m",
      "\u001b[31mTypeError\u001b[39m                                 Traceback (most recent call last)",
      "\u001b[36mCell\u001b[39m\u001b[36m \u001b[39m\u001b[32mIn[60]\u001b[39m\u001b[32m, line 3\u001b[39m\n\u001b[32m      1\u001b[39m \u001b[38;5;66;03m#You will see below will return an error as integer alone is not considered while using a function.It either has to be in the form of tuple, list or a set.\u001b[39;00m\n\u001b[32m----> \u001b[39m\u001b[32m3\u001b[39m \u001b[38;5;28;43msum\u001b[39;49m\u001b[43m(\u001b[49m\u001b[32;43m3\u001b[39;49m\u001b[43m,\u001b[49m\u001b[32;43m5\u001b[39;49m\u001b[43m)\u001b[49m\n",
      "\u001b[31mTypeError\u001b[39m: 'int' object is not iterable"
     ]
    }
   ],
   "source": [
    "#You will see below will return an error as integer alone is not considered while using a function.It either has to be in the form of tuple, list or a set.\n",
    "\n",
    "sum(3,5)"
   ]
  },
  {
   "cell_type": "code",
   "execution_count": 62,
   "id": "94869f9e",
   "metadata": {},
   "outputs": [
    {
     "name": "stdout",
     "output_type": "stream",
     "text": [
      "The sum of the elements in the tuple (5, 8) is 13.\n"
     ]
    }
   ],
   "source": [
    "# Define a tuple\n",
    "a = (5, 8)\n",
    "\n",
    "# Pass the tuple to the sum function and store the result in a variable\n",
    "c = sum(a)\n",
    "\n",
    "# Print the result\n",
    "print(f\"The sum of the elements in the tuple {a} is {c}.\")\n"
   ]
  },
  {
   "cell_type": "code",
   "execution_count": 64,
   "id": "8aaa02c9",
   "metadata": {},
   "outputs": [
    {
     "name": "stdout",
     "output_type": "stream",
     "text": [
      "The sum of the elements in the list [7, 9] is 16.\n"
     ]
    }
   ],
   "source": [
    "# Define a list\n",
    "a = [7, 9]\n",
    "\n",
    "# Pass the list to the sum function and store the result in a variable\n",
    "c = sum(a)\n",
    "\n",
    "# Print the result\n",
    "print(f\"The sum of the elements in the list {a} is {c}.\")\n"
   ]
  },
  {
   "cell_type": "markdown",
   "id": "28981674",
   "metadata": {},
   "source": [
    "<h2 id=\"if\">Using <code>if</code>/<code>else</code> Statements and Loops in Functions</h2>\n",
    "The <code>return()</code> function is particularly useful if you have any IF statements in the function, when you want your output to be dependent on some condition:"
   ]
  },
  {
   "cell_type": "code",
   "execution_count": 68,
   "id": "df752aa8",
   "metadata": {},
   "outputs": [
    {
     "name": "stdout",
     "output_type": "stream",
     "text": [
      "The DDLJ 1980\n",
      "Oldie\n"
     ]
    }
   ],
   "source": [
    "# Function example\n",
    "\n",
    "def type_of_album(album, year_released):\n",
    "    \n",
    "    print(album, year_released)\n",
    "    if year_released > 1986:\n",
    "        return \"Modern\"\n",
    "    else:\n",
    "        return \"Oldie\"\n",
    "    \n",
    "x = type_of_album(\"The DDLJ\", 1980)\n",
    "print(x)"
   ]
  },
  {
   "cell_type": "markdown",
   "id": "6de0f5ba",
   "metadata": {},
   "source": [
    "We can use a loop in a function. For example, we can <code>print</code> out each element in a list:\n"
   ]
  },
  {
   "cell_type": "code",
   "execution_count": 69,
   "id": "5b0c6e0e",
   "metadata": {},
   "outputs": [],
   "source": [
    "# Print the list using for loop\n",
    "\n",
    "def PrintList(the_list):\n",
    "    for element in the_list:\n",
    "        print(element)"
   ]
  },
  {
   "cell_type": "code",
   "execution_count": 71,
   "id": "604d59ed",
   "metadata": {},
   "outputs": [
    {
     "name": "stdout",
     "output_type": "stream",
     "text": [
      "one\n",
      "4\n",
      "the monkey\n",
      "xyz\n"
     ]
    }
   ],
   "source": [
    "# Implement the printlist function\n",
    "\n",
    "PrintList(['one', 4, 'the monkey', \"xyz\"])"
   ]
  },
  {
   "cell_type": "markdown",
   "id": "225945f4",
   "metadata": {},
   "source": [
    "<h2 id=\"if\">String comparison in Functions</h2>\n",
    "The relational operators compare the Unicode values of the characters of the strings from the zeroth index till the end of the string. It then returns a boolean value according to the operator used.\n"
   ]
  },
  {
   "cell_type": "code",
   "execution_count": 6,
   "id": "2216b608",
   "metadata": {},
   "outputs": [
    {
     "data": {
      "text/plain": [
       "'String not matched'"
      ]
     },
     "execution_count": 6,
     "metadata": {},
     "output_type": "execute_result"
    }
   ],
   "source": [
    "#Compare Two Strings Directly using in operator\n",
    "# add string\n",
    "string= \"The Baghban is the best movie\"\n",
    "\n",
    "# Define a funtion\n",
    "def check_string(text):\n",
    "    \n",
    "# Use if else statement and 'in' operatore to compare the string\n",
    "    if text in string:\n",
    "        return 'String matched'\n",
    "    else:\n",
    "        return 'String not matched'\n",
    "\n",
    "check_string(\"The Baghbaaan is the best\")"
   ]
  },
  {
   "cell_type": "markdown",
   "id": "695f1be4",
   "metadata": {},
   "source": [
    "This program uses a user-defined function named compareStrings() to compare two strings. \n",
    "\n",
    "This function receives both strings as its argument and returns 1 if both strings are equal using == operator\n"
   ]
  },
  {
   "cell_type": "code",
   "execution_count": 9,
   "id": "2aecf343",
   "metadata": {},
   "outputs": [
    {
     "name": "stdout",
     "output_type": "stream",
     "text": [
      "\n",
      "String not Matched\n"
     ]
    }
   ],
   "source": [
    "#Compare two strings using == operator and function\n",
    "def compareStrings(a, b):\n",
    "# Use if else statement to compare x and y\n",
    "    if a==b:\n",
    "        return 0\n",
    "    \n",
    "# Declare two different variables as string1 and string2 and pass string in it\n",
    "string1 = \"The Baghban is the best movie\"\n",
    "string2 = \"The Baghban is the best movie\"\n",
    "\n",
    "# Declare a variable to store result after comparing both the strings\n",
    "check = compareStrings(string1, string2)\n",
    "\n",
    "#Use if else statement to compare the string\n",
    "if check==1:\n",
    "    print(\"\\nString Matched\")\n",
    "else:\n",
    "    print(\"\\nString not Matched\")"
   ]
  },
  {
   "cell_type": "markdown",
   "id": "4010c479",
   "metadata": {},
   "source": [
    "**Count the Frequency of Words Appearing in a String Using a Dictionary.** \n"
   ]
  },
  {
   "cell_type": "code",
   "execution_count": 10,
   "id": "00ee6c18",
   "metadata": {},
   "outputs": [
    {
     "name": "stdout",
     "output_type": "stream",
     "text": [
      "The Frequency of words is: {'Mary': 6, 'had': 2, 'a': 2, 'little': 3, 'lamb': 3, 'Little': 1, 'lamb,': 1, 'lamb.Its': 1, 'fleece': 1, 'was': 2, 'white': 1, 'as': 1, 'snow': 1, 'And': 1, 'everywhere': 1, 'that': 2, 'went': 3, 'went,': 1, 'Everywhere': 1, 'The': 1, 'sure': 1, 'to': 1, 'go': 1}\n"
     ]
    }
   ],
   "source": [
    "# Python Program to Count words in a String using Dictionary\n",
    "def freq(string):\n",
    "    \n",
    "    #step1: A list variable is declared and initialized to an empty list.\n",
    "    words = []\n",
    "    \n",
    "    #step2: Break the string into list of words\n",
    "    words = string.split() # or string.lower().split()\n",
    "    \n",
    "    #step3: Declare a dictionary\n",
    "    Dict = {}\n",
    "    \n",
    "    #step4: Use for loop to iterate words and values to the dictionary\n",
    "    for key in words:\n",
    "        Dict[key] = words.count(key)\n",
    "        \n",
    "    #step5: Print the dictionary\n",
    "    print(\"The Frequency of words is:\",Dict)\n",
    "    \n",
    "#step6: Call function and pass string in it\n",
    "freq(\"Mary had a little lamb Little lamb, little lamb Mary had a little lamb.Its fleece was white as snow And everywhere that Mary went Mary went, Mary went \\\n",
    "Everywhere that Mary went The lamb was sure to go\")"
   ]
  },
  {
   "cell_type": "markdown",
   "id": "80926fcb",
   "metadata": {},
   "source": [
    "<h2 id=\"default\">Setting default argument values in your custom functions</h2>\n",
    "You can set a default value for arguments in your function. For example, in the <code>isGoodRating()</code> function, what if we wanted to create a threshold for what we consider to be a good rating? Perhaps by default, we should have a default rating of 4:\n"
   ]
  },
  {
   "cell_type": "code",
   "execution_count": 13,
   "id": "81026374",
   "metadata": {},
   "outputs": [],
   "source": [
    "# Example for setting param with default value\n",
    "\n",
    "def isGoodRating(rating=6): \n",
    "    if(rating < 7):\n",
    "        print(\"this album sucks it's rating is\",rating)\n",
    "        \n",
    "    else:\n",
    "        print(\"this album is good its rating is\",rating)"
   ]
  },
  {
   "cell_type": "code",
   "execution_count": 14,
   "id": "294c3937",
   "metadata": {},
   "outputs": [
    {
     "name": "stdout",
     "output_type": "stream",
     "text": [
      "this album sucks it's rating is 6\n",
      "this album is good its rating is 10\n"
     ]
    }
   ],
   "source": [
    "# Test the value with default value and with input\n",
    "\n",
    "isGoodRating()\n",
    "isGoodRating(10)"
   ]
  },
  {
   "cell_type": "markdown",
   "id": "43ee60fe",
   "metadata": {},
   "source": [
    "<h2 id=\"global\">Global variables</h2>\n",
    "So far, we've been creating variables within functions, but we have not discussed variables outside the function. These are called global variables. <br>\n",
    "Let's try to see what <code>printer1</code> returns:"
   ]
  },
  {
   "cell_type": "code",
   "execution_count": 16,
   "id": "95dd26fc",
   "metadata": {},
   "outputs": [
    {
     "name": "stdout",
     "output_type": "stream",
     "text": [
      "The Baghban is an album\n"
     ]
    }
   ],
   "source": [
    "# Example of global variable\n",
    "\n",
    "album = \"The Baghban\"\n",
    "def printer1(album):\n",
    "    internal_var1 = \"Thriller\"\n",
    "    print(album, \"is an album\")\n",
    "    \n",
    "printer1(album )\n",
    "# try runningthe following code\n",
    "#printer1(internal_var1) "
   ]
  },
  {
   "cell_type": "markdown",
   "id": "b86103f3",
   "metadata": {},
   "source": [
    "<b>We got a Name Error:  <code>name 'internal_var' is not defined</code>. Why?</b>\n",
    "\n",
    "It's because all the variables we create in the function is a <b>local variable</b>, meaning that the variable assignment does not persist outside the function.\n",
    "\n",
    "But there is a way to create <b>global variables</b> from within a function as follows:\n"
   ]
  },
  {
   "cell_type": "code",
   "execution_count": 17,
   "id": "54ac1a22",
   "metadata": {},
   "outputs": [
    {
     "name": "stdout",
     "output_type": "stream",
     "text": [
      "The Baghban is an album\n",
      "Thriller is an album\n"
     ]
    }
   ],
   "source": [
    "album = \"The Baghban\"\n",
    "\n",
    "def printer(album):\n",
    "    global internal_var \n",
    "    internal_var= \"Thriller\"\n",
    "    print(album,\"is an album\")\n",
    "\n",
    "printer(album) \n",
    "printer(internal_var)"
   ]
  },
  {
   "cell_type": "markdown",
   "id": "e8a12a78",
   "metadata": {},
   "source": [
    "<h2 id=\"scope\">Scope of a Variable</h2>\n",
    "The scope of a variable is the part of that program where that variable is accessible. Variables that are declared outside of all function definitions, such as the <code>myFavouriteBand</code> variable in the code shown here, are accessible from anywhere within the program. As a result, such variables are said to have global scope, and are known as global variables. <code>myFavouriteBand</code> is a global variable, so it is accessible from within the <code>getBandRating</code> function, and we can use it to determine a band's rating. We can also use it outside of the function, such as when we pass it to the print function to display it:"
   ]
  },
  {
   "cell_type": "code",
   "execution_count": 18,
   "id": "4962a5db",
   "metadata": {},
   "outputs": [
    {
     "name": "stdout",
     "output_type": "stream",
     "text": [
      "AC/DC's rating is: 10.0\n",
      "Deep Purple's rating is: 0.0\n",
      "My favourite band is: AC/DC\n"
     ]
    }
   ],
   "source": [
    "# Example of global variable\n",
    "\n",
    "myFavouriteBand = \"AC/DC\"\n",
    "\n",
    "def getBandRating(bandname):\n",
    "    if bandname == myFavouriteBand:\n",
    "        return 10.0\n",
    "    else:\n",
    "        return 0.0\n",
    "\n",
    "print(\"AC/DC's rating is:\", getBandRating(\"AC/DC\"))\n",
    "print(\"Deep Purple's rating is:\",getBandRating(\"Deep Purple\"))\n",
    "print(\"My favourite band is:\", myFavouriteBand)"
   ]
  },
  {
   "cell_type": "markdown",
   "id": "38d85e03",
   "metadata": {},
   "source": [
    "Finally, take a look at this example. We now have two <code>myFavouriteBand</code> variable definitions. The first one of these has a global scope, and the second of them is a local variable within the <code>getBandRating</code> function. Within the <code>getBandRating</code> function, the local variable takes precedence. **Deep Purple** will receive a rating of 10.0 when passed to the <code>getBandRating</code> function. However, outside of the <code>getBandRating</code> function, the <code>getBandRating</code> s local variable is not defined, so the <code>myFavouriteBand</code> variable we print is the global variable, which has a value of **AC/DC**:"
   ]
  },
  {
   "cell_type": "code",
   "execution_count": 19,
   "id": "6720946d",
   "metadata": {},
   "outputs": [
    {
     "name": "stdout",
     "output_type": "stream",
     "text": [
      "AC/DC's rating is: 0.0\n",
      "Deep Purple's rating is:  10.0\n",
      "My favourite band is: AC/DC\n"
     ]
    }
   ],
   "source": [
    "# Example of global variable and local variable with the same name\n",
    "\n",
    "myFavouriteBand = \"AC/DC\"\n",
    "\n",
    "def getBandRating(bandname):\n",
    "    myFavouriteBand = \"Deep Purple\"\n",
    "    if bandname == myFavouriteBand:\n",
    "        return 10.0\n",
    "    else:\n",
    "        return 0.0\n",
    "\n",
    "print(\"AC/DC's rating is:\",getBandRating(\"AC/DC\"))\n",
    "print(\"Deep Purple's rating is: \",getBandRating(\"Deep Purple\"))\n",
    "print(\"My favourite band is:\",myFavouriteBand)"
   ]
  },
  {
   "cell_type": "markdown",
   "id": "cb547260",
   "metadata": {},
   "source": [
    "<hr>\n",
    "<h2 id =\"collec\"> Collections and Functions</h2>\n",
    "When the number of arguments  are unknown for a function, They can all be packed into a tuple as shown:\n"
   ]
  },
  {
   "cell_type": "code",
   "execution_count": 20,
   "id": "081a1d59",
   "metadata": {},
   "outputs": [
    {
     "name": "stdout",
     "output_type": "stream",
     "text": [
      "No of arguments: 4\n",
      "Horsefeather\n",
      "Adonis\n",
      "Bone\n",
      "hand\n",
      "No of arguments: 5\n",
      "Sidecar\n",
      "Long Island\n",
      "Mudslide\n",
      "Carriage\n",
      "car\n"
     ]
    }
   ],
   "source": [
    "def printAll(*args): # All the arguments are 'packed' into args which can be treated like a tuple\n",
    "    print(\"No of arguments:\", len(args)) \n",
    "    for argument in args:\n",
    "        print(argument)\n",
    "#printAll with 3 arguments\n",
    "printAll('Horsefeather','Adonis','Bone','hand')\n",
    "#printAll with 4 arguments\n",
    "printAll('Sidecar','Long Island','Mudslide','Carriage','car')"
   ]
  },
  {
   "cell_type": "markdown",
   "id": "dd15ffd1",
   "metadata": {},
   "source": [
    "Similarly, The arguments can also be packed into a dictionary as shown:\n"
   ]
  },
  {
   "cell_type": "code",
   "execution_count": 21,
   "id": "3668425a",
   "metadata": {},
   "outputs": [
    {
     "name": "stdout",
     "output_type": "stream",
     "text": [
      "Country : India\n",
      "Province : chandigarh\n",
      "City : mandi\n"
     ]
    }
   ],
   "source": [
    "def printDictionary(**args):\n",
    "    for key in args:\n",
    "        print(key + \" : \" + args[key])\n",
    "\n",
    "printDictionary(Country='India',Province='chandigarh',City='mandi')\n",
    "    "
   ]
  },
  {
   "cell_type": "markdown",
   "id": "d3814a53",
   "metadata": {},
   "source": [
    "Functions can be incredibly powerful and versatile. They can accept (and return) data types, objects and even other functions as arguements. Consider the example below:"
   ]
  },
  {
   "cell_type": "code",
   "execution_count": 22,
   "id": "ec0eae0b",
   "metadata": {},
   "outputs": [
    {
     "data": {
      "text/plain": [
       "['One', 'Two', 'Three', 'Four']"
      ]
     },
     "execution_count": 22,
     "metadata": {},
     "output_type": "execute_result"
    }
   ],
   "source": [
    "def addItems(list):\n",
    "    list.append(\"Three\")\n",
    "    list.append(\"Four\")\n",
    "\n",
    "myList = [\"One\",\"Two\"]\n",
    "\n",
    "addItems(myList)\n",
    "\n",
    "myList\n",
    "    "
   ]
  },
  {
   "cell_type": "markdown",
   "id": "ed8c0de3",
   "metadata": {},
   "source": [
    "Note how the changes made to the list are not limited to the functions scope. This occurs as it is the lists **reference** that is passed to the function - Any changes made are on the orignal instance of the list. Therefore, one should be cautious when passing mutable objects into functions.\n",
    "\n",
    "<hr>"
   ]
  },
  {
   "cell_type": "code",
   "execution_count": null,
   "id": "2fedd645",
   "metadata": {},
   "outputs": [],
   "source": []
  }
 ],
 "metadata": {
  "kernelspec": {
   "display_name": "oop_env",
   "language": "python",
   "name": "python3"
  },
  "language_info": {
   "codemirror_mode": {
    "name": "ipython",
    "version": 3
   },
   "file_extension": ".py",
   "mimetype": "text/x-python",
   "name": "python",
   "nbconvert_exporter": "python",
   "pygments_lexer": "ipython3",
   "version": "3.12.7"
  }
 },
 "nbformat": 4,
 "nbformat_minor": 5
}
