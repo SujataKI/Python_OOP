{
 "cells": [
  {
   "cell_type": "markdown",
   "id": "82887f2c",
   "metadata": {},
   "source": [
    "# Recursion\n",
    "- What is Recursion?\n",
    "- Recursion is a programming technique where a function call itself to solve smaller instances of a problem.\n",
    "- Why use Recursion?\n",
    "- Natural fit for problems that can be broken down into smaller sub problems(e.g. factorial, fibonacci series).\n",
    "- Makes code elegant and expressive(throught sometimes less efficient).\n",
    "- 5!= 5x4! = 5x4x3!= 5x4x3x2! = 5x4x3x2x1 = 120 "
   ]
  },
  {
   "cell_type": "code",
   "execution_count": 3,
   "id": "dfe69a40",
   "metadata": {},
   "outputs": [],
   "source": [
    "def factorial(n : int):\n",
    "    if n==1 or n == 2:   # base case\n",
    "        return 1\n",
    "    else:\n",
    "        return n * factorial(n-1) # recursive case"
   ]
  },
  {
   "cell_type": "code",
   "execution_count": 5,
   "id": "28aa38de",
   "metadata": {},
   "outputs": [
    {
     "data": {
      "text/plain": [
       "12"
      ]
     },
     "execution_count": 5,
     "metadata": {},
     "output_type": "execute_result"
    }
   ],
   "source": [
    "factorial(4)"
   ]
  },
  {
   "cell_type": "code",
   "execution_count": 13,
   "id": "53544ef5",
   "metadata": {},
   "outputs": [],
   "source": [
    "# Fibonacci \n",
    "def fibonacci(n):\n",
    "    if n <=1:\n",
    "        return n\n",
    "    else:\n",
    "        return fibonacci(n-2) + fibonacci(n-4)"
   ]
  },
  {
   "cell_type": "code",
   "execution_count": 14,
   "id": "920c36c2",
   "metadata": {},
   "outputs": [
    {
     "data": {
      "text/plain": [
       "1"
      ]
     },
     "execution_count": 14,
     "metadata": {},
     "output_type": "execute_result"
    }
   ],
   "source": [
    "fibonacci(5)"
   ]
  },
  {
   "cell_type": "code",
   "execution_count": 23,
   "id": "72bee3c0",
   "metadata": {},
   "outputs": [],
   "source": [
    "def tri_recursion(k):\n",
    "    if (k>1):\n",
    "        result = k + tri_recursion(k-2)\n",
    "\n",
    "    else:\n",
    "        result = 0\n",
    "    return result\n",
    "\n",
    "# 6 + 4 + 2 + 0 = 12"
   ]
  },
  {
   "cell_type": "code",
   "execution_count": 24,
   "id": "74104a49",
   "metadata": {},
   "outputs": [
    {
     "data": {
      "text/plain": [
       "12"
      ]
     },
     "execution_count": 24,
     "metadata": {},
     "output_type": "execute_result"
    }
   ],
   "source": [
    "tri_recursion(6)"
   ]
  },
  {
   "cell_type": "code",
   "execution_count": 25,
   "id": "19059e83",
   "metadata": {},
   "outputs": [],
   "source": [
    "def tri_recursion(k):\n",
    "    if (k>1):\n",
    "        result = k + tri_recursion(k-2)\n",
    "        print(result)\n",
    "\n",
    "    else:\n",
    "        result = 1\n",
    "    return result"
   ]
  },
  {
   "cell_type": "code",
   "execution_count": 26,
   "id": "ff791062",
   "metadata": {},
   "outputs": [
    {
     "name": "stdout",
     "output_type": "stream",
     "text": [
      "3\n",
      "7\n",
      "13\n"
     ]
    },
    {
     "data": {
      "text/plain": [
       "13"
      ]
     },
     "execution_count": 26,
     "metadata": {},
     "output_type": "execute_result"
    }
   ],
   "source": [
    "tri_recursion(6)"
   ]
  },
  {
   "cell_type": "markdown",
   "id": "75139681",
   "metadata": {},
   "source": [
    "# Infinite loop"
   ]
  },
  {
   "cell_type": "code",
   "execution_count": 31,
   "id": "84d273d4",
   "metadata": {},
   "outputs": [
    {
     "ename": "RecursionError",
     "evalue": "maximum recursion depth exceeded",
     "output_type": "error",
     "traceback": [
      "\u001b[31m---------------------------------------------------------------------------\u001b[39m",
      "\u001b[31mRecursionError\u001b[39m                            Traceback (most recent call last)",
      "\u001b[36mCell\u001b[39m\u001b[36m \u001b[39m\u001b[32mIn[31]\u001b[39m\u001b[32m, line 10\u001b[39m\n\u001b[32m      7\u001b[39m         result = \u001b[32m0\u001b[39m\n\u001b[32m      8\u001b[39m     \u001b[38;5;28;01mreturn\u001b[39;00m result\n\u001b[32m---> \u001b[39m\u001b[32m10\u001b[39m \u001b[43mtri_recursion\u001b[49m\u001b[43m(\u001b[49m\u001b[32;43m4\u001b[39;49m\u001b[43m)\u001b[49m\n",
      "\u001b[36mCell\u001b[39m\u001b[36m \u001b[39m\u001b[32mIn[31]\u001b[39m\u001b[32m, line 3\u001b[39m, in \u001b[36mtri_recursion\u001b[39m\u001b[34m(k)\u001b[39m\n\u001b[32m      1\u001b[39m \u001b[38;5;28;01mdef\u001b[39;00m\u001b[38;5;250m \u001b[39m\u001b[34mtri_recursion\u001b[39m(k):\n\u001b[32m      2\u001b[39m     \u001b[38;5;28;01mif\u001b[39;00m (k>\u001b[32m1\u001b[39m):\n\u001b[32m----> \u001b[39m\u001b[32m3\u001b[39m         result = k + \u001b[43mtri_recursion\u001b[49m\u001b[43m(\u001b[49m\u001b[43mk\u001b[49m\u001b[43m)\u001b[49m\n\u001b[32m      4\u001b[39m         \u001b[38;5;28mprint\u001b[39m(result)\n\u001b[32m      6\u001b[39m     \u001b[38;5;28;01melse\u001b[39;00m:\n",
      "\u001b[36mCell\u001b[39m\u001b[36m \u001b[39m\u001b[32mIn[31]\u001b[39m\u001b[32m, line 3\u001b[39m, in \u001b[36mtri_recursion\u001b[39m\u001b[34m(k)\u001b[39m\n\u001b[32m      1\u001b[39m \u001b[38;5;28;01mdef\u001b[39;00m\u001b[38;5;250m \u001b[39m\u001b[34mtri_recursion\u001b[39m(k):\n\u001b[32m      2\u001b[39m     \u001b[38;5;28;01mif\u001b[39;00m (k>\u001b[32m1\u001b[39m):\n\u001b[32m----> \u001b[39m\u001b[32m3\u001b[39m         result = k + \u001b[43mtri_recursion\u001b[49m\u001b[43m(\u001b[49m\u001b[43mk\u001b[49m\u001b[43m)\u001b[49m\n\u001b[32m      4\u001b[39m         \u001b[38;5;28mprint\u001b[39m(result)\n\u001b[32m      6\u001b[39m     \u001b[38;5;28;01melse\u001b[39;00m:\n",
      "    \u001b[31m[... skipping similar frames: tri_recursion at line 3 (2974 times)]\u001b[39m\n",
      "\u001b[36mCell\u001b[39m\u001b[36m \u001b[39m\u001b[32mIn[31]\u001b[39m\u001b[32m, line 3\u001b[39m, in \u001b[36mtri_recursion\u001b[39m\u001b[34m(k)\u001b[39m\n\u001b[32m      1\u001b[39m \u001b[38;5;28;01mdef\u001b[39;00m\u001b[38;5;250m \u001b[39m\u001b[34mtri_recursion\u001b[39m(k):\n\u001b[32m      2\u001b[39m     \u001b[38;5;28;01mif\u001b[39;00m (k>\u001b[32m1\u001b[39m):\n\u001b[32m----> \u001b[39m\u001b[32m3\u001b[39m         result = k + \u001b[43mtri_recursion\u001b[49m\u001b[43m(\u001b[49m\u001b[43mk\u001b[49m\u001b[43m)\u001b[49m\n\u001b[32m      4\u001b[39m         \u001b[38;5;28mprint\u001b[39m(result)\n\u001b[32m      6\u001b[39m     \u001b[38;5;28;01melse\u001b[39;00m:\n",
      "\u001b[31mRecursionError\u001b[39m: maximum recursion depth exceeded"
     ]
    }
   ],
   "source": [
    "def tri_recursion(k):\n",
    "    if (k>1):\n",
    "        result = k + tri_recursion(k)\n",
    "        print(result)\n",
    "\n",
    "    else:\n",
    "        result = 0\n",
    "    return result\n",
    "\n",
    "tri_recursion(4)"
   ]
  },
  {
   "cell_type": "markdown",
   "id": "452935c1",
   "metadata": {},
   "source": [
    "# Lambda Function in Python"
   ]
  },
  {
   "cell_type": "code",
   "execution_count": 33,
   "id": "ce5db474",
   "metadata": {},
   "outputs": [
    {
     "data": {
      "text/plain": [
       "14"
      ]
     },
     "execution_count": 33,
     "metadata": {},
     "output_type": "execute_result"
    }
   ],
   "source": [
    "# lambda arguments: expression\n",
    "def add(a,b):\n",
    "    return a+b\n",
    "\n",
    "add(6,8)"
   ]
  },
  {
   "cell_type": "code",
   "execution_count": 36,
   "id": "486acfa9",
   "metadata": {},
   "outputs": [
    {
     "data": {
      "text/plain": [
       "15"
      ]
     },
     "execution_count": 36,
     "metadata": {},
     "output_type": "execute_result"
    }
   ],
   "source": [
    "add = lambda a,b: a+b\n",
    "add(6,9)"
   ]
  },
  {
   "cell_type": "code",
   "execution_count": 37,
   "id": "b00897a7",
   "metadata": {},
   "outputs": [
    {
     "data": {
      "text/plain": [
       "[4, 25, 49, 81]"
      ]
     },
     "execution_count": 37,
     "metadata": {},
     "output_type": "execute_result"
    }
   ],
   "source": [
    "list_1 = [2,5,7,9]\n",
    "\n",
    "def square(n:int):\n",
    "    return n*n\n",
    "\n",
    "list_2 = []\n",
    "for num in list_1:\n",
    "    sq_num = square(num)\n",
    "    list_2.append(sq_num)\n",
    "\n",
    "list_2"
   ]
  },
  {
   "cell_type": "code",
   "execution_count": 38,
   "id": "55d75cea",
   "metadata": {},
   "outputs": [
    {
     "data": {
      "text/plain": [
       "[4, 25, 49, 81]"
      ]
     },
     "execution_count": 38,
     "metadata": {},
     "output_type": "execute_result"
    }
   ],
   "source": [
    "list_1 = [2,5,7,9]\n",
    "squares = list(map(lambda n: n*n, list_1))\n",
    "squares"
   ]
  }
 ],
 "metadata": {
  "kernelspec": {
   "display_name": "oop_env",
   "language": "python",
   "name": "python3"
  },
  "language_info": {
   "codemirror_mode": {
    "name": "ipython",
    "version": 3
   },
   "file_extension": ".py",
   "mimetype": "text/x-python",
   "name": "python",
   "nbconvert_exporter": "python",
   "pygments_lexer": "ipython3",
   "version": "3.12.7"
  }
 },
 "nbformat": 4,
 "nbformat_minor": 5
}
