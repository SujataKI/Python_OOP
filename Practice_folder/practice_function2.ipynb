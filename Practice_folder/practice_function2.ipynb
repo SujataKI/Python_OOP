{
 "cells": [
  {
   "cell_type": "markdown",
   "id": "c09c082b",
   "metadata": {},
   "source": [
    "# Function Part Two\n",
    "\n",
    "- Default Parameter Value\n",
    "- The following example shows how to use a default parameter value.\n",
    "- If we call the function without argument, it uses the default value."
   ]
  },
  {
   "cell_type": "code",
   "execution_count": 1,
   "id": "7d3b6797",
   "metadata": {},
   "outputs": [],
   "source": [
    "# Parameter?\n",
    "# Parameter here:country\n",
    "# \"India\" default parameter value.\n",
    "def my_function(country=\"India\"):\n",
    "    print(\"I am from\" + country)\n"
   ]
  },
  {
   "cell_type": "code",
   "execution_count": 2,
   "id": "9ad59496",
   "metadata": {},
   "outputs": [
    {
     "name": "stdout",
     "output_type": "stream",
     "text": [
      "I am fromIndia\n"
     ]
    }
   ],
   "source": [
    "my_function()   #we are calling our function"
   ]
  },
  {
   "cell_type": "code",
   "execution_count": 3,
   "id": "c53cf993",
   "metadata": {},
   "outputs": [
    {
     "name": "stdout",
     "output_type": "stream",
     "text": [
      "I am fromGermony\n"
     ]
    }
   ],
   "source": [
    "my_function(\"Germony\")   # we are passing a value to the arguments"
   ]
  },
  {
   "cell_type": "code",
   "execution_count": 4,
   "id": "e72bbb9a",
   "metadata": {},
   "outputs": [
    {
     "name": "stdout",
     "output_type": "stream",
     "text": [
      "I am fromItali\n"
     ]
    }
   ],
   "source": [
    "my_function(country=\"Itali\")   # we are passing a value to the arguments"
   ]
  },
  {
   "cell_type": "markdown",
   "id": "9e8cb8c2",
   "metadata": {},
   "source": [
    "# Passing a List as an Argument\n",
    "- You can send any datatypes of argument to a function\n",
    "- string, number, list, dictionary, tuple\n",
    "- It will be treated as the same data type inside the function"
   ]
  },
  {
   "cell_type": "code",
   "execution_count": 5,
   "id": "a5d0fcc6",
   "metadata": {},
   "outputs": [],
   "source": [
    "def my_food(vegitables):\n",
    "    for vegitable in vegitables:\n",
    "        print(vegitable)"
   ]
  },
  {
   "cell_type": "code",
   "execution_count": 8,
   "id": "84e95bd2",
   "metadata": {},
   "outputs": [],
   "source": [
    "vegitables = [\"Potato\", \"capsicum\", \"onion\"]"
   ]
  },
  {
   "cell_type": "code",
   "execution_count": 9,
   "id": "8c533000",
   "metadata": {},
   "outputs": [
    {
     "name": "stdout",
     "output_type": "stream",
     "text": [
      "Potato\n",
      "capsicum\n",
      "onion\n"
     ]
    }
   ],
   "source": [
    "my_food(vegitables)"
   ]
  },
  {
   "cell_type": "markdown",
   "id": "90c05458",
   "metadata": {},
   "source": [
    "# Return Values\n",
    "- To let a function return a value , use the `return` statement"
   ]
  },
  {
   "cell_type": "code",
   "execution_count": 10,
   "id": "5aa37286",
   "metadata": {},
   "outputs": [],
   "source": [
    "def addition(num1, num2):\n",
    "    total= num1+num2\n",
    "    return total\n",
    "total_from_add = addition(2,2)"
   ]
  },
  {
   "cell_type": "code",
   "execution_count": 11,
   "id": "ed2b7957",
   "metadata": {},
   "outputs": [
    {
     "data": {
      "text/plain": [
       "4"
      ]
     },
     "execution_count": 11,
     "metadata": {},
     "output_type": "execute_result"
    }
   ],
   "source": [
    "total_from_add"
   ]
  },
  {
   "cell_type": "code",
   "execution_count": 12,
   "id": "c99a67ec",
   "metadata": {},
   "outputs": [
    {
     "data": {
      "text/plain": [
       "59"
      ]
     },
     "execution_count": 12,
     "metadata": {},
     "output_type": "execute_result"
    }
   ],
   "source": [
    "def addition_2(num1, num2=55):\n",
    "    total= num1+num2\n",
    "    return total\n",
    "addition_2(total_from_add)"
   ]
  },
  {
   "cell_type": "markdown",
   "id": "8a145c3f",
   "metadata": {},
   "source": [
    "# The pass statement\n",
    "- Function definitions cannot be empty, but if you for some reason have a function definition with no content, put in the pass statement to avoid getting an error"
   ]
  },
  {
   "cell_type": "code",
   "execution_count": 13,
   "id": "f9e3f03e",
   "metadata": {},
   "outputs": [],
   "source": [
    "def dummy_func():\n",
    "    pass\n",
    "    \n",
    "def addition(num1, num2):\n",
    "    total= num1+num2\n",
    "    return total\n",
    "\n",
    "def subtraction():\n",
    "    pass"
   ]
  },
  {
   "cell_type": "markdown",
   "id": "bb0bab7a",
   "metadata": {},
   "source": [
    "# Positional Only Arguments\n",
    "- You can specify that a function can have only positional arguments, or ONLY keyword arguments.\n",
    "- To specify that a function can have only positional arguments, add `, /` after the arguments"
   ]
  },
  {
   "cell_type": "code",
   "execution_count": 15,
   "id": "915a6d06",
   "metadata": {},
   "outputs": [],
   "source": [
    "def my_function(y, /):\n",
    "    print(y)"
   ]
  },
  {
   "cell_type": "code",
   "execution_count": 17,
   "id": "9cd341cf",
   "metadata": {},
   "outputs": [
    {
     "name": "stdout",
     "output_type": "stream",
     "text": [
      "4\n"
     ]
    }
   ],
   "source": [
    "my_function(4)"
   ]
  },
  {
   "cell_type": "code",
   "execution_count": 18,
   "id": "bff381b7",
   "metadata": {},
   "outputs": [
    {
     "ename": "TypeError",
     "evalue": "my_function() got some positional-only arguments passed as keyword arguments: 'y'",
     "output_type": "error",
     "traceback": [
      "\u001b[31m---------------------------------------------------------------------------\u001b[39m",
      "\u001b[31mTypeError\u001b[39m                                 Traceback (most recent call last)",
      "\u001b[36mCell\u001b[39m\u001b[36m \u001b[39m\u001b[32mIn[18]\u001b[39m\u001b[32m, line 1\u001b[39m\n\u001b[32m----> \u001b[39m\u001b[32m1\u001b[39m \u001b[43mmy_function\u001b[49m\u001b[43m(\u001b[49m\u001b[43my\u001b[49m\u001b[43m=\u001b[49m\u001b[32;43m4\u001b[39;49m\u001b[43m)\u001b[49m\n",
      "\u001b[31mTypeError\u001b[39m: my_function() got some positional-only arguments passed as keyword arguments: 'y'"
     ]
    }
   ],
   "source": [
    "my_function(y=4)"
   ]
  },
  {
   "cell_type": "code",
   "execution_count": 19,
   "id": "dc4d7ae5",
   "metadata": {},
   "outputs": [],
   "source": [
    "def my_function(y):\n",
    "    print(y)"
   ]
  },
  {
   "cell_type": "code",
   "execution_count": 21,
   "id": "6fd06c0e",
   "metadata": {},
   "outputs": [
    {
     "name": "stdout",
     "output_type": "stream",
     "text": [
      "7\n"
     ]
    }
   ],
   "source": [
    "my_function(y=7)"
   ]
  },
  {
   "cell_type": "markdown",
   "id": "22b55e53",
   "metadata": {},
   "source": [
    "# Keyword only arguments:\n",
    "- `* ,` before the arguments"
   ]
  },
  {
   "cell_type": "code",
   "execution_count": 25,
   "id": "834ad39c",
   "metadata": {},
   "outputs": [
    {
     "name": "stdout",
     "output_type": "stream",
     "text": [
      "8\n"
     ]
    }
   ],
   "source": [
    "def my_function(*, y):\n",
    "    print(y)\n",
    "my_function(y=8)"
   ]
  },
  {
   "cell_type": "code",
   "execution_count": 24,
   "id": "4e83b7a7",
   "metadata": {},
   "outputs": [
    {
     "ename": "TypeError",
     "evalue": "my_function() takes 0 positional arguments but 1 was given",
     "output_type": "error",
     "traceback": [
      "\u001b[31m---------------------------------------------------------------------------\u001b[39m",
      "\u001b[31mTypeError\u001b[39m                                 Traceback (most recent call last)",
      "\u001b[36mCell\u001b[39m\u001b[36m \u001b[39m\u001b[32mIn[24]\u001b[39m\u001b[32m, line 1\u001b[39m\n\u001b[32m----> \u001b[39m\u001b[32m1\u001b[39m \u001b[43mmy_function\u001b[49m\u001b[43m(\u001b[49m\u001b[32;43m8\u001b[39;49m\u001b[43m)\u001b[49m\n",
      "\u001b[31mTypeError\u001b[39m: my_function() takes 0 positional arguments but 1 was given"
     ]
    }
   ],
   "source": [
    "my_function(8)"
   ]
  },
  {
   "cell_type": "markdown",
   "id": "70d51011",
   "metadata": {},
   "source": [
    "# Combine Positional Only and Keyword only arguments"
   ]
  },
  {
   "cell_type": "code",
   "execution_count": 26,
   "id": "e7d995b0",
   "metadata": {},
   "outputs": [],
   "source": [
    "def my_function(s, u, j, /, a, *, t):\n",
    "    print(s+u+j+a+t)"
   ]
  },
  {
   "cell_type": "code",
   "execution_count": 27,
   "id": "58d8da0f",
   "metadata": {},
   "outputs": [
    {
     "name": "stdout",
     "output_type": "stream",
     "text": [
      "29\n"
     ]
    }
   ],
   "source": [
    "my_function(3,4,6,7,t=9)"
   ]
  },
  {
   "cell_type": "code",
   "execution_count": 32,
   "id": "a90ea407",
   "metadata": {},
   "outputs": [
    {
     "ename": "TypeError",
     "evalue": "my_function() got some positional-only arguments passed as keyword arguments: 'j'",
     "output_type": "error",
     "traceback": [
      "\u001b[31m---------------------------------------------------------------------------\u001b[39m",
      "\u001b[31mTypeError\u001b[39m                                 Traceback (most recent call last)",
      "\u001b[36mCell\u001b[39m\u001b[36m \u001b[39m\u001b[32mIn[32]\u001b[39m\u001b[32m, line 1\u001b[39m\n\u001b[32m----> \u001b[39m\u001b[32m1\u001b[39m \u001b[43mmy_function\u001b[49m\u001b[43m(\u001b[49m\u001b[32;43m3\u001b[39;49m\u001b[43m,\u001b[49m\u001b[32;43m4\u001b[39;49m\u001b[43m,\u001b[49m\u001b[43mj\u001b[49m\u001b[43m=\u001b[49m\u001b[32;43m6\u001b[39;49m\u001b[43m,\u001b[49m\u001b[43ma\u001b[49m\u001b[43m=\u001b[49m\u001b[32;43m7\u001b[39;49m\u001b[43m,\u001b[49m\u001b[43mt\u001b[49m\u001b[43m=\u001b[49m\u001b[32;43m9\u001b[39;49m\u001b[43m)\u001b[49m\n",
      "\u001b[31mTypeError\u001b[39m: my_function() got some positional-only arguments passed as keyword arguments: 'j'"
     ]
    }
   ],
   "source": [
    "my_function(3,4,j=6,a=7,t=9)"
   ]
  },
  {
   "cell_type": "code",
   "execution_count": 33,
   "id": "f7bbc935",
   "metadata": {},
   "outputs": [
    {
     "name": "stdout",
     "output_type": "stream",
     "text": [
      "29\n"
     ]
    }
   ],
   "source": [
    "my_function(3,4,6,a=7,t=9)"
   ]
  }
 ],
 "metadata": {
  "kernelspec": {
   "display_name": "oop_env",
   "language": "python",
   "name": "python3"
  },
  "language_info": {
   "codemirror_mode": {
    "name": "ipython",
    "version": 3
   },
   "file_extension": ".py",
   "mimetype": "text/x-python",
   "name": "python",
   "nbconvert_exporter": "python",
   "pygments_lexer": "ipython3",
   "version": "3.12.7"
  }
 },
 "nbformat": 4,
 "nbformat_minor": 5
}
