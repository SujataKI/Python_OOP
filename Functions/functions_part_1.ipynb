{
 "cells": [
  {
   "cell_type": "markdown",
   "id": "f8ce272b",
   "metadata": {},
   "source": [
    "# Functions in Python\n",
    "- A function is a block of code which only runs when it is called.\n",
    "- You can pass data, known as parameters, into a function.\n",
    "- A function can return data as a default."
   ]
  },
  {
   "cell_type": "markdown",
   "id": "e923f7c0",
   "metadata": {},
   "source": [
    "# Creating a function\n",
    "- In Python a function is defined using the `def` keyword."
   ]
  },
  {
   "cell_type": "code",
   "execution_count": 1,
   "id": "62b25a6c",
   "metadata": {},
   "outputs": [],
   "source": [
    "name = \"Sujata\"\n",
    "\n",
    "# def - define\n",
    "def my_function():\n",
    "    # Instruction\n",
    "    # Hello world\n",
    "    print(\"hello world!\")\n"
   ]
  },
  {
   "cell_type": "markdown",
   "id": "bbd7cc04",
   "metadata": {},
   "source": [
    "# Calling a function"
   ]
  },
  {
   "cell_type": "code",
   "execution_count": 3,
   "id": "21c350a9",
   "metadata": {},
   "outputs": [
    {
     "data": {
      "text/plain": [
       "'Sujata'"
      ]
     },
     "execution_count": 3,
     "metadata": {},
     "output_type": "execute_result"
    }
   ],
   "source": [
    "name # Variable calling"
   ]
  },
  {
   "cell_type": "code",
   "execution_count": null,
   "id": "4feaec13",
   "metadata": {},
   "outputs": [
    {
     "data": {
      "text/plain": [
       "<function __main__.my_function()>"
      ]
     },
     "execution_count": 4,
     "metadata": {},
     "output_type": "execute_result"
    }
   ],
   "source": [
    "my_function # Name of the function"
   ]
  },
  {
   "cell_type": "code",
   "execution_count": 5,
   "id": "f24bbb90",
   "metadata": {},
   "outputs": [
    {
     "name": "stdout",
     "output_type": "stream",
     "text": [
      "hello world!\n"
     ]
    }
   ],
   "source": [
    "my_function()"
   ]
  },
  {
   "cell_type": "code",
   "execution_count": 7,
   "id": "c3c1d94f",
   "metadata": {},
   "outputs": [
    {
     "name": "stdout",
     "output_type": "stream",
     "text": [
      "Hi, my name is Sujata Kumari. \n",
      " I am 22 years old. I live in Chandigarh. \n",
      " I am an aspiring Data Analyust.\n"
     ]
    }
   ],
   "source": [
    "def sujata():\n",
    "    \"\"\"\n",
    "    Introduction: Hi, my name is Sujata Kumari.\n",
    "    I am 22 years old. I live in Chandigarh. \n",
    "    I am an aspiring Data Analyust.\n",
    "    \"\"\"\n",
    "    print(\"Hi, my name is Sujata Kumari. \\n I am 22 years old. I live in Chandigarh. \\n I am an aspiring Data Analyust.\")\n",
    "\n",
    "sujata()"
   ]
  },
  {
   "cell_type": "markdown",
   "id": "fa98d39a",
   "metadata": {},
   "source": [
    "# Arguments\n",
    "- Information can be passed into functions as arguments.\n",
    "- args"
   ]
  },
  {
   "cell_type": "code",
   "execution_count": 50,
   "id": "29305d14",
   "metadata": {},
   "outputs": [],
   "source": [
    "def introduction(\n",
    "        name: str,\n",
    "        age: int,\n",
    "        city: str,\n",
    "        nationality: str,\n",
    "        position: str\n",
    "    ):\n",
    "\n",
    "    print(f\"My name is {name}. I am {age}. I am from {city}. I am {nationality}. I am an aspiring {position}.\")\n"
   ]
  },
  {
   "cell_type": "markdown",
   "id": "32be31b0",
   "metadata": {},
   "source": [
    "# key - value pair\n",
    "## key- parameter (function definition)\n",
    "## value - argument (function calling)"
   ]
  },
  {
   "cell_type": "code",
   "execution_count": 29,
   "id": "4e8d6b68",
   "metadata": {},
   "outputs": [
    {
     "name": "stdout",
     "output_type": "stream",
     "text": [
      "My name is Sujata. I am 26. I am from Chandigarh. I am Indian. I am an aspiring data Analyst.\n"
     ]
    }
   ],
   "source": [
    "introduction(\"Sujata\", 26, \"Chandigarh\", \"Indian\", \"data Analyst\")"
   ]
  },
  {
   "cell_type": "code",
   "execution_count": 24,
   "id": "b8358bc4",
   "metadata": {},
   "outputs": [
    {
     "name": "stdout",
     "output_type": "stream",
     "text": [
      "My name is Sujata. I am 28. I am from Chandigarh. I am Indian. I am an aspiring Data Analyst.\n"
     ]
    }
   ],
   "source": [
    "name = \"Sujata\"\n",
    "age=28\n",
    "city=\"Chandigarh\"\n",
    "nationality=\"Indian\"\n",
    "position=\"Data Analyst\"\n",
    "\n",
    "introduction(name, age, city, nationality, position)"
   ]
  },
  {
   "cell_type": "markdown",
   "id": "d9793d20",
   "metadata": {},
   "source": [
    "# Parameter or Arguments?\n",
    "- The terms parameter and argument can be used for the same thing: information that are passed into a function.\n",
    "- A parameter is the variable listed inside the parentheses in the function definition.\n",
    "- An argument is the value that is sent to the function when it is called."
   ]
  },
  {
   "cell_type": "markdown",
   "id": "e1d36102",
   "metadata": {},
   "source": [
    "# Number of arguments\n",
    "- By default, a function must be called with the correct number of arguments.\n",
    "- Meaning that if your function expects 2 arguments, you have to call the function with 2 arguments, not more, and not less."
   ]
  },
  {
   "cell_type": "code",
   "execution_count": 30,
   "id": "a0c4140b",
   "metadata": {},
   "outputs": [
    {
     "data": {
      "text/plain": [
       "<function __main__.introduction(name: str, age: int, city: str, country: str, position: str)>"
      ]
     },
     "execution_count": 30,
     "metadata": {},
     "output_type": "execute_result"
    }
   ],
   "source": [
    "introduction"
   ]
  },
  {
   "cell_type": "code",
   "execution_count": 34,
   "id": "72fba81a",
   "metadata": {},
   "outputs": [
    {
     "name": "stdout",
     "output_type": "stream",
     "text": [
      "My name is Sujata. I am 26. I am from Chandigarh. I am Indian. I am an aspiring data Analyst.\n"
     ]
    }
   ],
   "source": [
    "introduction(\"Sujata\", 26, \"Chandigarh\", \"Indian\", \"data Analyst\")"
   ]
  },
  {
   "cell_type": "markdown",
   "id": "265af595",
   "metadata": {},
   "source": [
    "# Arbitrary Arguments\n",
    "- If you do not know how many arguments that will be passed into your function, add a `*` before the parameter name in the function definition.\n",
    "- This way the function will receive a tuple of arguments, and can access the items accordingly."
   ]
  },
  {
   "cell_type": "code",
   "execution_count": null,
   "id": "e4168fdd",
   "metadata": {},
   "outputs": [],
   "source": [
    "def my_function(*kids):\n",
    "    print(\"The youngest child is \"+ kids[2])\n"
   ]
  },
  {
   "cell_type": "code",
   "execution_count": null,
   "id": "3abc882a",
   "metadata": {},
   "outputs": [
    {
     "name": "stdout",
     "output_type": "stream",
     "text": [
      "The youngest child is Suraj\n"
     ]
    }
   ],
   "source": [
    "my_function(\"Sujata\", \"Ankush\", \"Suraj\", \"Soniya\") # (\"Sujata\", \"Ankush\", \"Suraj\", \"Soniya\")"
   ]
  },
  {
   "cell_type": "code",
   "execution_count": 37,
   "id": "3c09c784",
   "metadata": {},
   "outputs": [
    {
     "ename": "IndexError",
     "evalue": "tuple index out of range",
     "output_type": "error",
     "traceback": [
      "\u001b[31m---------------------------------------------------------------------------\u001b[39m",
      "\u001b[31mIndexError\u001b[39m                                Traceback (most recent call last)",
      "\u001b[36mCell\u001b[39m\u001b[36m \u001b[39m\u001b[32mIn[37]\u001b[39m\u001b[32m, line 1\u001b[39m\n\u001b[32m----> \u001b[39m\u001b[32m1\u001b[39m \u001b[43mmy_function\u001b[49m\u001b[43m(\u001b[49m\u001b[43m)\u001b[49m\n",
      "\u001b[36mCell\u001b[39m\u001b[36m \u001b[39m\u001b[32mIn[35]\u001b[39m\u001b[32m, line 2\u001b[39m, in \u001b[36mmy_function\u001b[39m\u001b[34m(*kids)\u001b[39m\n\u001b[32m      1\u001b[39m \u001b[38;5;28;01mdef\u001b[39;00m\u001b[38;5;250m \u001b[39m\u001b[34mmy_function\u001b[39m(*kids):\n\u001b[32m----> \u001b[39m\u001b[32m2\u001b[39m     \u001b[38;5;28mprint\u001b[39m(\u001b[33m\"\u001b[39m\u001b[33mThe youngest child is \u001b[39m\u001b[33m\"\u001b[39m+ \u001b[43mkids\u001b[49m\u001b[43m[\u001b[49m\u001b[32;43m2\u001b[39;49m\u001b[43m]\u001b[49m)\n",
      "\u001b[31mIndexError\u001b[39m: tuple index out of range"
     ]
    }
   ],
   "source": [
    "my_function()"
   ]
  },
  {
   "cell_type": "code",
   "execution_count": null,
   "id": "1dad9f5b",
   "metadata": {},
   "outputs": [
    {
     "data": {
      "text/plain": [
       "0"
      ]
     },
     "execution_count": 40,
     "metadata": {},
     "output_type": "execute_result"
    }
   ],
   "source": [
    "def add_numbers(*args):\n",
    "    \"\"\"\n",
    "    add_numbers:\n",
    "        arguments: arbitrary arguments\n",
    "        return: sum of arbitrary numbers\n",
    "    \"\"\"\n",
    "    sum = 0\n",
    "    for num in args:\n",
    "        sum = sum + num\n",
    "    return sum\n",
    "\n",
    "add_numbers()"
   ]
  },
  {
   "cell_type": "code",
   "execution_count": 43,
   "id": "a2b176be",
   "metadata": {},
   "outputs": [
    {
     "data": {
      "text/plain": [
       "5093"
      ]
     },
     "execution_count": 43,
     "metadata": {},
     "output_type": "execute_result"
    }
   ],
   "source": [
    "add_numbers(-1,0,-50,100,5000,2,3,4,5,6,7,8,9)"
   ]
  },
  {
   "cell_type": "markdown",
   "id": "5e6579fe",
   "metadata": {},
   "source": [
    "# Keyword Arguments\n",
    "- You can also send arguments with the key= value syntax.\n",
    "- The way the order of the arguments does not matter."
   ]
  },
  {
   "cell_type": "code",
   "execution_count": 44,
   "id": "d96da17b",
   "metadata": {},
   "outputs": [
    {
     "name": "stdout",
     "output_type": "stream",
     "text": [
      "The youngest child isVijay\n"
     ]
    }
   ],
   "source": [
    "def my_function(child1, child2, child3):\n",
    "    print(\"The youngest child is\" + child3)\n",
    "\n",
    "my_function(child1=\"Sujata\", child2=\"Suraj\", child3=\"Vijay\")"
   ]
  },
  {
   "cell_type": "code",
   "execution_count": 45,
   "id": "5214aad3",
   "metadata": {},
   "outputs": [
    {
     "name": "stdout",
     "output_type": "stream",
     "text": [
      "The youngest child isVijay\n"
     ]
    }
   ],
   "source": [
    "my_function(\"Sujata\", \"Suraj\", \"Vijay\")"
   ]
  },
  {
   "cell_type": "code",
   "execution_count": 46,
   "id": "1fc80eec",
   "metadata": {},
   "outputs": [
    {
     "name": "stdout",
     "output_type": "stream",
     "text": [
      "My name is Sujata. I am 26. I am from Chandigarh. I am Indian. I am an aspiring data Analyst.\n"
     ]
    }
   ],
   "source": [
    "introduction(\"Sujata\", 26, \"Chandigarh\", \"Indian\", \"data Analyst\")"
   ]
  },
  {
   "cell_type": "code",
   "execution_count": null,
   "id": "caf8a845",
   "metadata": {},
   "outputs": [
    {
     "name": "stdout",
     "output_type": "stream",
     "text": [
      "My name is 26. I am Sujata. I am from Chandigarh. I am Indian. I am an aspiring data Analyst.\n"
     ]
    }
   ],
   "source": [
    "introduction( 26, \"Sujata\", \"Chandigarh\", \"Indian\", \"data Analyst\")"
   ]
  },
  {
   "cell_type": "code",
   "execution_count": 51,
   "id": "b1e6fc54",
   "metadata": {},
   "outputs": [
    {
     "name": "stdout",
     "output_type": "stream",
     "text": [
      "My name is Sujata. I am 26. I am from Chandigarh. I am indian. I am an aspiring data Analyst.\n"
     ]
    }
   ],
   "source": [
    "introduction( age=26,name=\"Sujata\",nationality= \"indian\", city= \"Chandigarh\", position=\"data Analyst\")"
   ]
  },
  {
   "cell_type": "markdown",
   "id": "8dce05ec",
   "metadata": {},
   "source": [
    "# Arbitrary Keyword arguments\n",
    "- If you do not know how many keyword arguments that will be passed into your function, add two astericks `**` before the parameter name in the function definition.\n",
    "- This way the function will receive a dictionary of arguments, and can access the items accordingly."
   ]
  },
  {
   "cell_type": "code",
   "execution_count": 54,
   "id": "f513e7e6",
   "metadata": {},
   "outputs": [
    {
     "name": "stdout",
     "output_type": "stream",
     "text": [
      "Her last name is Kumari\n"
     ]
    }
   ],
   "source": [
    "def my_function(**kid):\n",
    "    print(\"Her last name is \"+ kid[\"lname\"])\n",
    "\n",
    "my_function(fname=\"Sujata\", lname=\"Kumari\") # **kid = { \"fname\": \"Sujata\", \"lname\": \"Kumari\"}"
   ]
  },
  {
   "cell_type": "code",
   "execution_count": 55,
   "id": "7d8861f4",
   "metadata": {},
   "outputs": [
    {
     "name": "stdout",
     "output_type": "stream",
     "text": [
      "Her last name is Kumari\n"
     ]
    }
   ],
   "source": [
    "my_function(fname=\"Sujata\", lname=\"Kumari\", age = 26, gender= \"Female\") # **kid = { \"fname\": \"Sujata\", \"lname\": \"Kumari\"}"
   ]
  },
  {
   "cell_type": "code",
   "execution_count": 63,
   "id": "20e3a333",
   "metadata": {},
   "outputs": [
    {
     "name": "stdout",
     "output_type": "stream",
     "text": [
      "k1 v1\n",
      "k2 v2\n",
      "k1\n",
      "k2\n",
      "v1\n",
      "v2\n"
     ]
    }
   ],
   "source": [
    "dict_1 = {\n",
    "    \"k1\":\"v1\",\n",
    "    \"k2\":\"v2\"\n",
    "}\n",
    "dict_1\n",
    "\n",
    "for key, value in dict_1.items():\n",
    "    print(key, value)\n",
    "\n",
    "for key in dict_1.keys():\n",
    "    print(key)\n",
    "\n",
    "for value in dict_1.values():\n",
    "    print(value)"
   ]
  },
  {
   "cell_type": "code",
   "execution_count": 64,
   "id": "0f311ca5",
   "metadata": {},
   "outputs": [
    {
     "data": {
      "text/plain": [
       "70"
      ]
     },
     "execution_count": 64,
     "metadata": {},
     "output_type": "execute_result"
    }
   ],
   "source": [
    "def add_numbers(**kwargs): # kwargs ; Keyword arguments\n",
    "    \"\"\"\n",
    "    add_numbers:\n",
    "        arguments: arbitrary arguments\n",
    "        return: sum of arbitrary numbers\n",
    "    \"\"\"\n",
    "    sum = 0\n",
    "    for num in kwargs.values():\n",
    "        sum = sum + num\n",
    "    return sum\n",
    "\n",
    "add_numbers(n1=10, babli_2=-40,num_3=100)"
   ]
  },
  {
   "cell_type": "code",
   "execution_count": null,
   "id": "64e6c4b3",
   "metadata": {},
   "outputs": [],
   "source": []
  }
 ],
 "metadata": {
  "kernelspec": {
   "display_name": "oop_env",
   "language": "python",
   "name": "python3"
  },
  "language_info": {
   "codemirror_mode": {
    "name": "ipython",
    "version": 3
   },
   "file_extension": ".py",
   "mimetype": "text/x-python",
   "name": "python",
   "nbconvert_exporter": "python",
   "pygments_lexer": "ipython3",
   "version": "3.12.7"
  }
 },
 "nbformat": 4,
 "nbformat_minor": 5
}
