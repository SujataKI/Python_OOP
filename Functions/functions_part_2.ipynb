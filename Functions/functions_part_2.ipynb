{
 "cells": [
  {
   "cell_type": "markdown",
   "id": "56b65174",
   "metadata": {},
   "source": [
    "# Function Part Two\n",
    "\n",
    "- Default Parameter Value"
   ]
  },
  {
   "cell_type": "markdown",
   "id": "3d62435c",
   "metadata": {},
   "source": [
    "- The following example shows how to use a default parameter value.\n",
    "- If we call the function without argument, it uses the default value."
   ]
  },
  {
   "cell_type": "code",
   "execution_count": 12,
   "id": "446b6c95",
   "metadata": {},
   "outputs": [],
   "source": [
    "# What do you mean by parameter? \n",
    "# Identify the parameter here: country\n",
    "# \"Norway\": Default parameter value\n",
    "def my_function(country=\"Norway\"):\n",
    "    print(\"I am from \" + country)"
   ]
  },
  {
   "cell_type": "code",
   "execution_count": 13,
   "id": "e2014258",
   "metadata": {},
   "outputs": [
    {
     "name": "stdout",
     "output_type": "stream",
     "text": [
      "I am from Norway\n"
     ]
    }
   ],
   "source": [
    "# We are calling our function\n",
    "# In other words, we are executing my_function()\n",
    "my_function()"
   ]
  },
  {
   "cell_type": "code",
   "execution_count": null,
   "id": "0bf1e621",
   "metadata": {},
   "outputs": [
    {
     "name": "stdout",
     "output_type": "stream",
     "text": [
      "I am from India\n"
     ]
    }
   ],
   "source": [
    "my_function(\"India\") # We are passing a value to the argument"
   ]
  },
  {
   "cell_type": "code",
   "execution_count": 16,
   "id": "20cfc055",
   "metadata": {},
   "outputs": [
    {
     "name": "stdout",
     "output_type": "stream",
     "text": [
      "I am from USA\n"
     ]
    }
   ],
   "source": [
    "my_function(country=\"USA\") # We are passing a value to the argument"
   ]
  },
  {
   "cell_type": "markdown",
   "id": "2cd459ef",
   "metadata": {},
   "source": [
    "# Passing a List as an Argument\n",
    "- You can send any datatypes of argument to a function\n",
    "- string, number, list, dictionary, tuple\n",
    "- It will be treated as the same data type inside the function"
   ]
  },
  {
   "cell_type": "code",
   "execution_count": 19,
   "id": "0579c64a",
   "metadata": {},
   "outputs": [],
   "source": [
    "def my_food(fruits):\n",
    "    for fruit in fruits:\n",
    "        print(fruit)"
   ]
  },
  {
   "cell_type": "code",
   "execution_count": 20,
   "id": "ad3b27a7",
   "metadata": {},
   "outputs": [],
   "source": [
    "fruits = [\"Apple\", \"banana\", \"cherry\"]"
   ]
  },
  {
   "cell_type": "code",
   "execution_count": 21,
   "id": "3539168c",
   "metadata": {},
   "outputs": [
    {
     "name": "stdout",
     "output_type": "stream",
     "text": [
      "Apple\n",
      "banana\n",
      "cherry\n"
     ]
    }
   ],
   "source": [
    "my_food(fruits)"
   ]
  },
  {
   "cell_type": "markdown",
   "id": "02bf0b48",
   "metadata": {},
   "source": [
    "# Return Values\n",
    "- To let a function return a value , use the `return` statement"
   ]
  },
  {
   "cell_type": "code",
   "execution_count": null,
   "id": "73d8835a",
   "metadata": {},
   "outputs": [],
   "source": [
    "\n",
    "def multiplication(num1, num2):\n",
    "    total= num1*num2\n",
    "    return total\n",
    "total_from_mult = multiplication(2,2)"
   ]
  },
  {
   "cell_type": "code",
   "execution_count": 32,
   "id": "a28a2ce4",
   "metadata": {},
   "outputs": [
    {
     "data": {
      "text/plain": [
       "4"
      ]
     },
     "execution_count": 32,
     "metadata": {},
     "output_type": "execute_result"
    }
   ],
   "source": [
    "total_from_mult"
   ]
  },
  {
   "cell_type": "code",
   "execution_count": 33,
   "id": "5c67f1b8",
   "metadata": {},
   "outputs": [
    {
     "data": {
      "text/plain": [
       "400"
      ]
     },
     "execution_count": 33,
     "metadata": {},
     "output_type": "execute_result"
    }
   ],
   "source": [
    "\n",
    "def multiplication_2(num1, num2=100):\n",
    "    total= num1*num2\n",
    "    return total\n",
    "\n",
    "multiplication_2(total_from_mult)"
   ]
  },
  {
   "cell_type": "markdown",
   "id": "26735066",
   "metadata": {},
   "source": [
    "# The pass statement\n",
    "- Function definitions cannot be empty, but if you for some reason have a function definition with no content, put in the pass statement to avoid getting an error"
   ]
  },
  {
   "cell_type": "code",
   "execution_count": 5,
   "id": "49035a89",
   "metadata": {},
   "outputs": [],
   "source": [
    "def dummy_func():\n",
    "    pass\n",
    "    \n",
    "def multiplication(num1, num2):\n",
    "    total= num1*num2\n",
    "    return total\n",
    "\n",
    "def addition():\n",
    "    pass"
   ]
  },
  {
   "cell_type": "markdown",
   "id": "c1758f0e",
   "metadata": {},
   "source": [
    "# Positional Only Arguments\n",
    "- You can specify that a function can have only positional arguments, or ONLY keyword arguments.\n",
    "- To specify that a function can have only positional arguments, add `, /` after the arguments "
   ]
  },
  {
   "cell_type": "code",
   "execution_count": 39,
   "id": "e2e3fea0",
   "metadata": {},
   "outputs": [],
   "source": [
    "def my_function(x, /):\n",
    "    print(x)"
   ]
  },
  {
   "cell_type": "code",
   "execution_count": 40,
   "id": "a9b36745",
   "metadata": {},
   "outputs": [
    {
     "name": "stdout",
     "output_type": "stream",
     "text": [
      "6\n"
     ]
    }
   ],
   "source": [
    "my_function(6)"
   ]
  },
  {
   "cell_type": "code",
   "execution_count": 41,
   "id": "1b64cdd4",
   "metadata": {},
   "outputs": [
    {
     "ename": "TypeError",
     "evalue": "my_function() got some positional-only arguments passed as keyword arguments: 'x'",
     "output_type": "error",
     "traceback": [
      "\u001b[31m---------------------------------------------------------------------------\u001b[39m",
      "\u001b[31mTypeError\u001b[39m                                 Traceback (most recent call last)",
      "\u001b[36mCell\u001b[39m\u001b[36m \u001b[39m\u001b[32mIn[41]\u001b[39m\u001b[32m, line 1\u001b[39m\n\u001b[32m----> \u001b[39m\u001b[32m1\u001b[39m \u001b[43mmy_function\u001b[49m\u001b[43m(\u001b[49m\u001b[43mx\u001b[49m\u001b[43m=\u001b[49m\u001b[32;43m6\u001b[39;49m\u001b[43m)\u001b[49m\n",
      "\u001b[31mTypeError\u001b[39m: my_function() got some positional-only arguments passed as keyword arguments: 'x'"
     ]
    }
   ],
   "source": [
    "my_function(x=6)"
   ]
  },
  {
   "cell_type": "code",
   "execution_count": 42,
   "id": "1ee9fc30",
   "metadata": {},
   "outputs": [],
   "source": [
    "def my_function(x):\n",
    "    print(x)"
   ]
  },
  {
   "cell_type": "code",
   "execution_count": 43,
   "id": "0a14213e",
   "metadata": {},
   "outputs": [
    {
     "name": "stdout",
     "output_type": "stream",
     "text": [
      "6\n"
     ]
    }
   ],
   "source": [
    "my_function(x=6)"
   ]
  },
  {
   "cell_type": "markdown",
   "id": "c6a531f6",
   "metadata": {},
   "source": [
    "# Keyword only arguments:\n",
    "- `* ,` before the arguments"
   ]
  },
  {
   "cell_type": "code",
   "execution_count": 44,
   "id": "c8e45052",
   "metadata": {},
   "outputs": [
    {
     "name": "stdout",
     "output_type": "stream",
     "text": [
      "10\n"
     ]
    }
   ],
   "source": [
    "def my_function(*,x):\n",
    "    print(x)\n",
    "\n",
    "my_function(x=10)"
   ]
  },
  {
   "cell_type": "code",
   "execution_count": 45,
   "id": "e1dd2416",
   "metadata": {},
   "outputs": [
    {
     "ename": "TypeError",
     "evalue": "my_function() takes 0 positional arguments but 1 was given",
     "output_type": "error",
     "traceback": [
      "\u001b[31m---------------------------------------------------------------------------\u001b[39m",
      "\u001b[31mTypeError\u001b[39m                                 Traceback (most recent call last)",
      "\u001b[36mCell\u001b[39m\u001b[36m \u001b[39m\u001b[32mIn[45]\u001b[39m\u001b[32m, line 1\u001b[39m\n\u001b[32m----> \u001b[39m\u001b[32m1\u001b[39m \u001b[43mmy_function\u001b[49m\u001b[43m(\u001b[49m\u001b[32;43m10\u001b[39;49m\u001b[43m)\u001b[49m\n",
      "\u001b[31mTypeError\u001b[39m: my_function() takes 0 positional arguments but 1 was given"
     ]
    }
   ],
   "source": [
    "my_function(10)"
   ]
  },
  {
   "cell_type": "markdown",
   "id": "cc5c3bca",
   "metadata": {},
   "source": [
    "# Combine Positional Only and Keyword only arguments"
   ]
  },
  {
   "cell_type": "code",
   "execution_count": null,
   "id": "9a617550",
   "metadata": {},
   "outputs": [],
   "source": [
    "def my_function(a, b, /, c, *, d, e):\n",
    "    print(a+b+c+d+e)"
   ]
  },
  {
   "cell_type": "code",
   "execution_count": 56,
   "id": "12e632b3",
   "metadata": {},
   "outputs": [
    {
     "name": "stdout",
     "output_type": "stream",
     "text": [
      "133\n"
     ]
    }
   ],
   "source": [
    "my_function(1,3,6,d=56,e=67)"
   ]
  },
  {
   "cell_type": "code",
   "execution_count": 57,
   "id": "99212f2f",
   "metadata": {},
   "outputs": [
    {
     "name": "stdout",
     "output_type": "stream",
     "text": [
      "133\n"
     ]
    }
   ],
   "source": [
    "my_function(1,3,c=6,d=56,e=67)"
   ]
  },
  {
   "cell_type": "code",
   "execution_count": null,
   "id": "e110bc4a",
   "metadata": {},
   "outputs": [],
   "source": [
    "# Assignment:\n",
    "# Simulate basic functionality of a calculator:\n",
    "# Build functions for (Multiplication, Addition, Subtraction, Divison)\n",
    "\n",
    "def mult(num1, num2):\n",
    "    pass\n",
    "\n",
    "def add(num1, num2):\n",
    "    pass\n",
    "\n",
    "def sub(num1,num2):\n",
    "    pass\n",
    "\n",
    "def div(num1, num2):\n",
    "    pass\n",
    "\n",
    "# Finally From each function take the return value after calling them with random numbers and add them\n",
    "# mult(2,2)= 4, add(10,2)= 12, sub(20-2)=18, div(100/10)=10\n",
    "# 4+12+18+10 = 44\n",
    "\n"
   ]
  },
  {
   "cell_type": "code",
   "execution_count": 4,
   "id": "dc5bdebc",
   "metadata": {},
   "outputs": [
    {
     "name": "stdout",
     "output_type": "stream",
     "text": [
      "Multiplication: 50 * 46 = 2300\n",
      "Addition: 27 + 52 = 79\n",
      "Subtraction: 63 - 28 = 35\n",
      "Division: 57 / 55 = 1.0363636363636364\n",
      "Total Sum of All Results: 2415.0363636363636\n"
     ]
    }
   ],
   "source": [
    "import random\n",
    "\n",
    "def mult(num1, num2):\n",
    "    return num1 * num2\n",
    "\n",
    "def add(num1, num2):\n",
    "    return num1 + num2\n",
    "\n",
    "def sub(num1, num2):\n",
    "    return num1 - num2\n",
    "\n",
    "def div(num1, num2):\n",
    "    if num2 != 0:\n",
    "        return num1 / num2\n",
    "    else:\n",
    "        return float('inf')  # Handle division by zero\n",
    "\n",
    "# Generate random numbers for each operation\n",
    "num1_mult = random.randint(45, 67)\n",
    "num2_mult = random.randint(34, 78)\n",
    "result_mult = mult(num1_mult, num2_mult)\n",
    "\n",
    "num1_add = random.randint(23, 89)\n",
    "num2_add = random.randint(45, 56)\n",
    "result_add = add(num1_add, num2_add)\n",
    "\n",
    "num1_sub = random.randint(55, 66)\n",
    "num2_sub = random.randint(22, 44)\n",
    "result_sub = sub(num1_sub, num2_sub)\n",
    "\n",
    "num1_div = random.randint(51, 62)\n",
    "num2_div = random.randint(48, 57)\n",
    "result_div = div(num1_div, num2_div)\n",
    "\n",
    "# Sum all the results\n",
    "total = result_mult + result_add + result_sub + result_div\n",
    "\n",
    "# Display the results\n",
    "print(f\"Multiplication: {num1_mult} * {num2_mult} = {result_mult}\")\n",
    "print(f\"Addition: {num1_add} + {num2_add} = {result_add}\")\n",
    "print(f\"Subtraction: {num1_sub} - {num2_sub} = {result_sub}\")\n",
    "print(f\"Division: {num1_div} / {num2_div} = {result_div}\")\n",
    "print(f\"Total Sum of All Results: {total}\")"
   ]
  }
 ],
 "metadata": {
  "kernelspec": {
   "display_name": "oop_env",
   "language": "python",
   "name": "python3"
  },
  "language_info": {
   "codemirror_mode": {
    "name": "ipython",
    "version": 3
   },
   "file_extension": ".py",
   "mimetype": "text/x-python",
   "name": "python",
   "nbconvert_exporter": "python",
   "pygments_lexer": "ipython3",
   "version": "3.12.7"
  }
 },
 "nbformat": 4,
 "nbformat_minor": 5
}
